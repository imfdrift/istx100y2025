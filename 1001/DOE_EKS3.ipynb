{
 "cells": [
  {
   "cell_type": "markdown",
   "id": "b6e74add-28f1-41bc-993e-c3a96c617946",
   "metadata": {},
   "source": [
    "# Forsøksplanlegging eksempel 3: Prosessutvikling\n",
    "\n",
    "*Eksempelet og dataene er hentet fra Forsøksplanlegging for ingeniørar av John Tyssedal*\n",
    "\n",
    "Vi ser på et $2^4$ forsøk med de fire faktorane $A$ = katalysator ladning, $B$ = temperatur, $C$ = trykk og $D$ = konsentrasjon som ble utført i en prosessutviklings-studie. Responsen er prosentvis omdanning. "
   ]
  },
  {
   "cell_type": "code",
   "execution_count": 2,
   "id": "49f77706-a7f0-4186-b4ad-09a393857f9e",
   "metadata": {
    "tags": []
   },
   "outputs": [],
   "source": [
    "import pandas as pd\n",
    "import seaborn as sns\n",
    "import matplotlib.pyplot as plt\n",
    "import numpy as np\n",
    "import statsmodels.api as sms\n",
    "import statsmodels.formula.api as smf\n",
    "from scipy import stats"
   ]
  },
  {
   "cell_type": "code",
   "execution_count": 3,
   "id": "16dcad06-5712-441c-b305-22fefd72b18d",
   "metadata": {
    "tags": []
   },
   "outputs": [],
   "source": [
    "run DOEfunksjoner.ipynb "
   ]
  },
  {
   "cell_type": "markdown",
   "id": "1fe5c03e-1ce9-473d-b4b2-0ecb4ca533f3",
   "metadata": {},
   "source": [
    "Faktorkombinasjonene (designmatrisa) for et $2^4$-forsøk er:"
   ]
  },
  {
   "cell_type": "code",
   "execution_count": 4,
   "id": "a68b5815-8bc2-4b2a-975b-20b75f4545d2",
   "metadata": {
    "tags": []
   },
   "outputs": [
    {
     "data": {
      "text/html": [
       "<div>\n",
       "<style scoped>\n",
       "    .dataframe tbody tr th:only-of-type {\n",
       "        vertical-align: middle;\n",
       "    }\n",
       "\n",
       "    .dataframe tbody tr th {\n",
       "        vertical-align: top;\n",
       "    }\n",
       "\n",
       "    .dataframe thead th {\n",
       "        text-align: right;\n",
       "    }\n",
       "</style>\n",
       "<table border=\"1\" class=\"dataframe\">\n",
       "  <thead>\n",
       "    <tr style=\"text-align: right;\">\n",
       "      <th></th>\n",
       "      <th>x1</th>\n",
       "      <th>x2</th>\n",
       "      <th>x3</th>\n",
       "      <th>x4</th>\n",
       "    </tr>\n",
       "  </thead>\n",
       "  <tbody>\n",
       "    <tr>\n",
       "      <th>0</th>\n",
       "      <td>-1.0</td>\n",
       "      <td>-1.0</td>\n",
       "      <td>-1.0</td>\n",
       "      <td>-1.0</td>\n",
       "    </tr>\n",
       "    <tr>\n",
       "      <th>1</th>\n",
       "      <td>1.0</td>\n",
       "      <td>-1.0</td>\n",
       "      <td>-1.0</td>\n",
       "      <td>-1.0</td>\n",
       "    </tr>\n",
       "    <tr>\n",
       "      <th>2</th>\n",
       "      <td>-1.0</td>\n",
       "      <td>1.0</td>\n",
       "      <td>-1.0</td>\n",
       "      <td>-1.0</td>\n",
       "    </tr>\n",
       "    <tr>\n",
       "      <th>3</th>\n",
       "      <td>1.0</td>\n",
       "      <td>1.0</td>\n",
       "      <td>-1.0</td>\n",
       "      <td>-1.0</td>\n",
       "    </tr>\n",
       "    <tr>\n",
       "      <th>4</th>\n",
       "      <td>-1.0</td>\n",
       "      <td>-1.0</td>\n",
       "      <td>1.0</td>\n",
       "      <td>-1.0</td>\n",
       "    </tr>\n",
       "    <tr>\n",
       "      <th>5</th>\n",
       "      <td>1.0</td>\n",
       "      <td>-1.0</td>\n",
       "      <td>1.0</td>\n",
       "      <td>-1.0</td>\n",
       "    </tr>\n",
       "    <tr>\n",
       "      <th>6</th>\n",
       "      <td>-1.0</td>\n",
       "      <td>1.0</td>\n",
       "      <td>1.0</td>\n",
       "      <td>-1.0</td>\n",
       "    </tr>\n",
       "    <tr>\n",
       "      <th>7</th>\n",
       "      <td>1.0</td>\n",
       "      <td>1.0</td>\n",
       "      <td>1.0</td>\n",
       "      <td>-1.0</td>\n",
       "    </tr>\n",
       "    <tr>\n",
       "      <th>8</th>\n",
       "      <td>-1.0</td>\n",
       "      <td>-1.0</td>\n",
       "      <td>-1.0</td>\n",
       "      <td>1.0</td>\n",
       "    </tr>\n",
       "    <tr>\n",
       "      <th>9</th>\n",
       "      <td>1.0</td>\n",
       "      <td>-1.0</td>\n",
       "      <td>-1.0</td>\n",
       "      <td>1.0</td>\n",
       "    </tr>\n",
       "    <tr>\n",
       "      <th>10</th>\n",
       "      <td>-1.0</td>\n",
       "      <td>1.0</td>\n",
       "      <td>-1.0</td>\n",
       "      <td>1.0</td>\n",
       "    </tr>\n",
       "    <tr>\n",
       "      <th>11</th>\n",
       "      <td>1.0</td>\n",
       "      <td>1.0</td>\n",
       "      <td>-1.0</td>\n",
       "      <td>1.0</td>\n",
       "    </tr>\n",
       "    <tr>\n",
       "      <th>12</th>\n",
       "      <td>-1.0</td>\n",
       "      <td>-1.0</td>\n",
       "      <td>1.0</td>\n",
       "      <td>1.0</td>\n",
       "    </tr>\n",
       "    <tr>\n",
       "      <th>13</th>\n",
       "      <td>1.0</td>\n",
       "      <td>-1.0</td>\n",
       "      <td>1.0</td>\n",
       "      <td>1.0</td>\n",
       "    </tr>\n",
       "    <tr>\n",
       "      <th>14</th>\n",
       "      <td>-1.0</td>\n",
       "      <td>1.0</td>\n",
       "      <td>1.0</td>\n",
       "      <td>1.0</td>\n",
       "    </tr>\n",
       "    <tr>\n",
       "      <th>15</th>\n",
       "      <td>1.0</td>\n",
       "      <td>1.0</td>\n",
       "      <td>1.0</td>\n",
       "      <td>1.0</td>\n",
       "    </tr>\n",
       "  </tbody>\n",
       "</table>\n",
       "</div>"
      ],
      "text/plain": [
       "     x1   x2   x3   x4\n",
       "0  -1.0 -1.0 -1.0 -1.0\n",
       "1   1.0 -1.0 -1.0 -1.0\n",
       "2  -1.0  1.0 -1.0 -1.0\n",
       "3   1.0  1.0 -1.0 -1.0\n",
       "4  -1.0 -1.0  1.0 -1.0\n",
       "5   1.0 -1.0  1.0 -1.0\n",
       "6  -1.0  1.0  1.0 -1.0\n",
       "7   1.0  1.0  1.0 -1.0\n",
       "8  -1.0 -1.0 -1.0  1.0\n",
       "9   1.0 -1.0 -1.0  1.0\n",
       "10 -1.0  1.0 -1.0  1.0\n",
       "11  1.0  1.0 -1.0  1.0\n",
       "12 -1.0 -1.0  1.0  1.0\n",
       "13  1.0 -1.0  1.0  1.0\n",
       "14 -1.0  1.0  1.0  1.0\n",
       "15  1.0  1.0  1.0  1.0"
      ]
     },
     "execution_count": 4,
     "metadata": {},
     "output_type": "execute_result"
    }
   ],
   "source": [
    "X = tofaktorDOE(k=4)\n",
    "X"
   ]
  },
  {
   "cell_type": "markdown",
   "id": "8e49de9c-f7d0-4a39-8433-f6f178448a26",
   "metadata": {},
   "source": [
    "Listen av faktorkombinasjoner ble randomisert og forsøkene ble gjennomført i denne rekkefølgen: 5, 9, 7, 10, 11, 0, 8, 3, 13, 4, 6, 14, 12, 1, 2 (her har vi forhold oss til Pythons 0-indeksering). \n",
    "\n",
    "Resultatene av forsøket, i *sortert* rekkefølge (0-15), er"
   ]
  },
  {
   "cell_type": "code",
   "execution_count": 8,
   "id": "5e795984-d3f4-4c68-aa87-25539029a636",
   "metadata": {
    "tags": []
   },
   "outputs": [],
   "source": [
    "y = [71, 61, 90, 82, 68, 61, 87, 80, 61, 50, 89, 83, 59, 51, 85, 78]"
   ]
  },
  {
   "cell_type": "markdown",
   "id": "e6a1f30e-aa54-41ad-b954-71002d2e2276",
   "metadata": {},
   "source": [
    "Vi samler både designmatrisa og tilhørende observerte responsverdier i en matrise:"
   ]
  },
  {
   "cell_type": "code",
   "execution_count": 10,
   "id": "15ecd302-e667-4e59-b73c-6be197f37f19",
   "metadata": {
    "tags": []
   },
   "outputs": [
    {
     "data": {
      "text/html": [
       "<div>\n",
       "<style scoped>\n",
       "    .dataframe tbody tr th:only-of-type {\n",
       "        vertical-align: middle;\n",
       "    }\n",
       "\n",
       "    .dataframe tbody tr th {\n",
       "        vertical-align: top;\n",
       "    }\n",
       "\n",
       "    .dataframe thead th {\n",
       "        text-align: right;\n",
       "    }\n",
       "</style>\n",
       "<table border=\"1\" class=\"dataframe\">\n",
       "  <thead>\n",
       "    <tr style=\"text-align: right;\">\n",
       "      <th></th>\n",
       "      <th>x1</th>\n",
       "      <th>x2</th>\n",
       "      <th>x3</th>\n",
       "      <th>x4</th>\n",
       "      <th>y</th>\n",
       "    </tr>\n",
       "  </thead>\n",
       "  <tbody>\n",
       "    <tr>\n",
       "      <th>0</th>\n",
       "      <td>-1.0</td>\n",
       "      <td>-1.0</td>\n",
       "      <td>-1.0</td>\n",
       "      <td>-1.0</td>\n",
       "      <td>71.0</td>\n",
       "    </tr>\n",
       "    <tr>\n",
       "      <th>1</th>\n",
       "      <td>1.0</td>\n",
       "      <td>-1.0</td>\n",
       "      <td>-1.0</td>\n",
       "      <td>-1.0</td>\n",
       "      <td>61.0</td>\n",
       "    </tr>\n",
       "    <tr>\n",
       "      <th>2</th>\n",
       "      <td>-1.0</td>\n",
       "      <td>1.0</td>\n",
       "      <td>-1.0</td>\n",
       "      <td>-1.0</td>\n",
       "      <td>90.0</td>\n",
       "    </tr>\n",
       "    <tr>\n",
       "      <th>3</th>\n",
       "      <td>1.0</td>\n",
       "      <td>1.0</td>\n",
       "      <td>-1.0</td>\n",
       "      <td>-1.0</td>\n",
       "      <td>82.0</td>\n",
       "    </tr>\n",
       "    <tr>\n",
       "      <th>4</th>\n",
       "      <td>-1.0</td>\n",
       "      <td>-1.0</td>\n",
       "      <td>1.0</td>\n",
       "      <td>-1.0</td>\n",
       "      <td>68.0</td>\n",
       "    </tr>\n",
       "    <tr>\n",
       "      <th>5</th>\n",
       "      <td>1.0</td>\n",
       "      <td>-1.0</td>\n",
       "      <td>1.0</td>\n",
       "      <td>-1.0</td>\n",
       "      <td>61.0</td>\n",
       "    </tr>\n",
       "    <tr>\n",
       "      <th>6</th>\n",
       "      <td>-1.0</td>\n",
       "      <td>1.0</td>\n",
       "      <td>1.0</td>\n",
       "      <td>-1.0</td>\n",
       "      <td>87.0</td>\n",
       "    </tr>\n",
       "    <tr>\n",
       "      <th>7</th>\n",
       "      <td>1.0</td>\n",
       "      <td>1.0</td>\n",
       "      <td>1.0</td>\n",
       "      <td>-1.0</td>\n",
       "      <td>80.0</td>\n",
       "    </tr>\n",
       "    <tr>\n",
       "      <th>8</th>\n",
       "      <td>-1.0</td>\n",
       "      <td>-1.0</td>\n",
       "      <td>-1.0</td>\n",
       "      <td>1.0</td>\n",
       "      <td>61.0</td>\n",
       "    </tr>\n",
       "    <tr>\n",
       "      <th>9</th>\n",
       "      <td>1.0</td>\n",
       "      <td>-1.0</td>\n",
       "      <td>-1.0</td>\n",
       "      <td>1.0</td>\n",
       "      <td>50.0</td>\n",
       "    </tr>\n",
       "    <tr>\n",
       "      <th>10</th>\n",
       "      <td>-1.0</td>\n",
       "      <td>1.0</td>\n",
       "      <td>-1.0</td>\n",
       "      <td>1.0</td>\n",
       "      <td>89.0</td>\n",
       "    </tr>\n",
       "    <tr>\n",
       "      <th>11</th>\n",
       "      <td>1.0</td>\n",
       "      <td>1.0</td>\n",
       "      <td>-1.0</td>\n",
       "      <td>1.0</td>\n",
       "      <td>83.0</td>\n",
       "    </tr>\n",
       "    <tr>\n",
       "      <th>12</th>\n",
       "      <td>-1.0</td>\n",
       "      <td>-1.0</td>\n",
       "      <td>1.0</td>\n",
       "      <td>1.0</td>\n",
       "      <td>59.0</td>\n",
       "    </tr>\n",
       "    <tr>\n",
       "      <th>13</th>\n",
       "      <td>1.0</td>\n",
       "      <td>-1.0</td>\n",
       "      <td>1.0</td>\n",
       "      <td>1.0</td>\n",
       "      <td>51.0</td>\n",
       "    </tr>\n",
       "    <tr>\n",
       "      <th>14</th>\n",
       "      <td>-1.0</td>\n",
       "      <td>1.0</td>\n",
       "      <td>1.0</td>\n",
       "      <td>1.0</td>\n",
       "      <td>85.0</td>\n",
       "    </tr>\n",
       "    <tr>\n",
       "      <th>15</th>\n",
       "      <td>1.0</td>\n",
       "      <td>1.0</td>\n",
       "      <td>1.0</td>\n",
       "      <td>1.0</td>\n",
       "      <td>78.0</td>\n",
       "    </tr>\n",
       "  </tbody>\n",
       "</table>\n",
       "</div>"
      ],
      "text/plain": [
       "     x1   x2   x3   x4     y\n",
       "0  -1.0 -1.0 -1.0 -1.0  71.0\n",
       "1   1.0 -1.0 -1.0 -1.0  61.0\n",
       "2  -1.0  1.0 -1.0 -1.0  90.0\n",
       "3   1.0  1.0 -1.0 -1.0  82.0\n",
       "4  -1.0 -1.0  1.0 -1.0  68.0\n",
       "5   1.0 -1.0  1.0 -1.0  61.0\n",
       "6  -1.0  1.0  1.0 -1.0  87.0\n",
       "7   1.0  1.0  1.0 -1.0  80.0\n",
       "8  -1.0 -1.0 -1.0  1.0  61.0\n",
       "9   1.0 -1.0 -1.0  1.0  50.0\n",
       "10 -1.0  1.0 -1.0  1.0  89.0\n",
       "11  1.0  1.0 -1.0  1.0  83.0\n",
       "12 -1.0 -1.0  1.0  1.0  59.0\n",
       "13  1.0 -1.0  1.0  1.0  51.0\n",
       "14 -1.0  1.0  1.0  1.0  85.0\n",
       "15  1.0  1.0  1.0  1.0  78.0"
      ]
     },
     "execution_count": 10,
     "metadata": {},
     "output_type": "execute_result"
    }
   ],
   "source": [
    "tab = np.column_stack([X, y])\n",
    "colnames = [\"x1\", \"x2\",\"x3\",\"x4\", \"y\"]\n",
    "df = pd.DataFrame(tab,columns=colnames)\n",
    "df"
   ]
  },
  {
   "cell_type": "markdown",
   "id": "334141fe-a876-4139-86f3-d92198bb353a",
   "metadata": {},
   "source": [
    "Vi starter med å tilpasse en lineær regresjonsmodell med alle mulige samspillseffekter inkludert i modellen:"
   ]
  },
  {
   "cell_type": "code",
   "execution_count": null,
   "id": "ff206f26-4168-4024-bc59-b91e0c1a9d67",
   "metadata": {
    "tags": []
   },
   "outputs": [],
   "source": [
    "modell = smf.ols('y~x1*x2*x3*x4', data=df).fit()\n",
    "print(modell.summary())"
   ]
  },
  {
   "cell_type": "markdown",
   "id": "756b73ed-8e98-4672-a9cc-45a0eb21a811",
   "metadata": {},
   "source": [
    "I modellen over har vi brukt våre 16 observasjoner til å estimere 16 parametere; skjæringspuntet ($\\beta_0$), koeffisientene til de fire faktorene $x_1, \\ldots, x_4$ ($\\beta_1, \\ldots, \\beta_4$), seks tofaktorinterkasjoner, fire trefaktorinteraksjoner og en firefaktorinteraksjon. Dermed har vi \"låst\" modellen til de tilgjengelige observasjonene, og vi har ikke noe resterende informasjon i dataene som kan si oss noe om variasjonen rundt regresjonslinja. Vi sier at vi har brukt opp alle frihetsgradene i modelltilpasningen. \n",
    "\n",
    "En måte å løse dette på er å gjøre gjentak av forsøket, det vil si 16 nye observasjoner. Men, vi kan også velge å se bort i fra trefaktor- og firefaktor-samspill i modellen med mindre vi har en klar mening om at slike samspill kan være avgjørende. \n"
   ]
  },
  {
   "cell_type": "code",
   "execution_count": null,
   "id": "f5d44cc7-c278-4888-8e1c-ec93830fa7ae",
   "metadata": {
    "tags": []
   },
   "outputs": [],
   "source": [
    "modell2 = smf.ols('y~x1+x2+x3+x4+x1*x2+x1*x3+x1*x4+x2*x3+x2*x4+x3*x4', data=df).fit()\n",
    "print(modell2.summary())"
   ]
  },
  {
   "cell_type": "markdown",
   "id": "9ac24c66-8528-44e5-812b-290a36cc48fd",
   "metadata": {},
   "source": [
    "Nå som vi kun har 11 koeffisienter i modellen har vi 16-11 = 5 \"frihetsgrader\" tilgjengelig for å estimere variansen. Dermed kan vi også gjennomføre inferens på parametere. Vi ser at alle hovedeffektene er signifikante, i tilegg til interaksjonen $BD$ (x2:x4). Dette ser vi også visualisert i Paretodiagrammet under. Vi kan merke oss at interaksjonen $AC$ er nær å være signifikant. Denne interaksjonen kan vi anbefale å undersøke videre i en ny studie dersom vi tror den er viktig for kostnader e.l."
   ]
  },
  {
   "cell_type": "code",
   "execution_count": null,
   "id": "a1b2b665-fbf8-4a46-9976-f3b91846df6f",
   "metadata": {},
   "outputs": [],
   "source": [
    "DOEparetoplott(modell2)"
   ]
  },
  {
   "cell_type": "markdown",
   "id": "dd70425a-53c1-46bd-a0d9-43853af5c807",
   "metadata": {},
   "source": [
    "I dette eksempelet er det ulike fortegn på faktorene. Vi ser at for å få høyest mulig verdi av responsen må vi ha faktorene $A$ og $D$ (x1 og x4) på lavt nivå, mens faktorene $B$ og $C$ (x2 og x3) må være på høyt nivå. Samspillseffekten $AD$ tilsier at vi får en økning i $Y$ når $A$ og $D$ er på *samme* nivå, slik at $A$ og $D$ (x1 og x4) på lavt nivå vil føre til en positiv samspillseffekt. "
   ]
  },
  {
   "cell_type": "markdown",
   "id": "684104d8-0974-49c4-92de-d61cb9188cbe",
   "metadata": {},
   "source": [
    "## Sjekk av normalantagelsen\n",
    "\n",
    "For å sjekke normalantagelsen kan vi plotte et QQ-plott på samme måte som i Fellesmodulen Uke 9. Vi ser QQ-plottet i figuren under. Vi ser en slags trappe-effekt i QQ-plottet fordi observasjonene av $Y$ har heltallsverdier, men ellers ser vi ingen iøyenfallende avvik fra den røde linja. Normaltilnærmingen ser ut til å være OK for dataene. "
   ]
  },
  {
   "cell_type": "code",
   "execution_count": null,
   "id": "f3b51e54-e4ff-4ced-b334-409f47b5c0b8",
   "metadata": {
    "tags": []
   },
   "outputs": [],
   "source": [
    "sms.qqplot(modell2.resid,line='45',fit=True)\n",
    "plt.ylabel(\"Kvantiler i residualene\")\n",
    "plt.xlabel(\"Kvantiler i normalfordelingen\")\n",
    "plt.show()"
   ]
  }
 ],
 "metadata": {
  "kernelspec": {
   "display_name": "Python 3 (ipykernel)",
   "language": "python",
   "name": "python3"
  },
  "language_info": {
   "codemirror_mode": {
    "name": "ipython",
    "version": 3
   },
   "file_extension": ".py",
   "mimetype": "text/x-python",
   "name": "python",
   "nbconvert_exporter": "python",
   "pygments_lexer": "ipython3",
   "version": "3.11.5"
  }
 },
 "nbformat": 4,
 "nbformat_minor": 5
}
