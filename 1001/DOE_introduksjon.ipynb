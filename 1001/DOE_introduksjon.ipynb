{
 "cells": [
  {
   "cell_type": "markdown",
   "id": "abb39c2d-29b5-4380-b2f4-a61bda5d7e2e",
   "metadata": {},
   "source": [
    "# Forsøksplanlegging 2\n",
    "### Prosjektmodul i ISTx1001\n",
    "\n",
    "## Motivasjon\n",
    "\n",
    "Vi skal studere situasjoner/prosesser/etc der flere faktorer (forklaringsvariabler, kovariater, uavhengige variabler, x-variabler, ...) antas å være assosiert med et (kontinuerlig) utkomme (responsvariabel, avhengig variabel, y-variabel, ...). "
   ]
  },
  {
   "cell_type": "markdown",
   "id": "df81ae01-bdf6-4255-9a6c-67b93b209115",
   "metadata": {},
   "source": [
    "*Eksempel 1:*\n",
    "En full-ladet el-bil vil kunne kjøre en distanse på $Y$ km før batteriet er tomt. Men distansen $Y$ er forbundet med usikkerhet og avhenger potensielt av flere faktorer, for eksempel sesong (sommer/vinter), kjøremønster (motorvei/bykjøring) og bilens vekt (mye/ingen bagasje). Vi er interessert i å finne ut hvilke av disse faktorene (forklaringsvariablene) som har størst effekt på el-bilens rekkevidde (responsvariabelen $Y$). I året som har gått har bilens eier skrevet ned noen observasjoner. Bilens eier oppgir at hen alltid full-ladet bilen når batteriet var på $20\\%$, og informasjon om tre perioder med kjøring (mellom fulladet bil og $20\\%$ kapasitet) er gitt i tabellen under.\n",
    "\n",
    "| Periode  |  Sesong   | Kjøremønster | Vekt     | Rekkevidde |\n",
    "| -------- | -------    | -------- | --------     | -------- |\n",
    "| 1 | Vinter | By       | Lett | 311 km |\n",
    "| 2 | Sommer | Motorvei | Tung | 314 km |\n",
    "| 3 | Vinter | Motorvei | Tung | 297 km |\n",
    "\n",
    "Vi ser at den lengste rekkevidden ble oppnådd om sommeren, på motorvei, og med tung bil. På vinterstid på motorvei, og med tung bil var derimot rekkevidden 17 km kortere, noe som indikerer at batteriet lades fortere ut ved kjøring på vinterføre. Vi kan trekke denne konklusjonen om sommer/vinter fordi de to andre faktorene (kjøremønster og vekt) var helt like i periode 2 og 3 i dataene. Vi har derimot ingen mulighet til å gjøre lignende sammenligner for kjøremønster eller vekt, og vi kan heller ikke avgjøre om kombinasjoner av faktorer har en samspillseffekt. Merk også at vi trakk konklusjonen om vinterføre mot sommerføre basert på kun to observasjoner, og vi kan selvfølgelig ikke utelukke at den observerte forskjellen bare skyldes tilfeldig variasjon. "
   ]
  },
  {
   "cell_type": "markdown",
   "id": "34e842e4-ee20-4543-9bcc-0da38ac0e5bb",
   "metadata": {},
   "source": [
    "## Faktorielle forsøk\n",
    "\n",
    "I faktorielle forsøk er vi interessert i å studere sammenhengen mellom flere faktorer (kovariater, forklaringsvariabler, osv.) og en responsvariabel. Faktorene i studien kan ta verdier på 2 eller flere nivåer (f.eks årstid). Vi skal studere *komplette* forsøk der alle kombinasjoner av faktorenes nivåer undersøkes. \n",
    "\n",
    "Eksempelvis kan vi studere effekten av faktorene A og B på en respons $Y$. Dersom faktor A har $a$ nivåer og faktor B har $b$ nivåer, så har vi totalt sett $a \\cdot b$ mulige kombinasjoner av nivåer på de to faktorene og et komplett $a \\times b$ faktorielt forsøk vil bestå av $ab$ faktorkombinasjoner. Antallet faktorkombinasjoner (og dermed antall forsøk vi må gjennomføre) vokser raskt når antall faktorer og antall nivåer per faktor øker. Derfor er det vanlig å begrense omfanget ved å definere *to nivåer* per faktor. Dette kalles 2-nivå faktorielle forsøk. \n",
    "\n",
    "*Eksempel 1 (fortsettelse):* For el-bilens rekkevidde så vi på tre faktorer og for hver av disse faktorene definerte vi to nivåer. Et komplett faktorielt forsøk her vil derfor bestå av $2\\cdot 2\\cdot 2 = 8$ faktorkombinasjoner, gjerne kalt et $2^3$ faktorielt forsøk. \n",
    "\n",
    "En enkeltmåling $y$ av responsvariabelen $Y$ (f.eks rekkevidde til elbil) som gjøres for en bestemt faktorkombinasjon vil være forbundet med usikkerhet (naturlig variasjon, støy). Det er derfor vanlig at en studie inneholder *gjentak* av alle faktorkombinasjonene. Rekkefølgen faktorkombinasjonene gjennomføres i må være *randomisert*, og dersom ikke alle forsøkene kan gjennomføres innenfor en rimelig tidsramme kan vi dele opp forsøket i *blokker*."
   ]
  },
  {
   "cell_type": "markdown",
   "id": "6195b4e3-ee3b-43b7-9a95-d5122313b79d",
   "metadata": {},
   "source": [
    "## 2-nivå faktorielle forsøk\n",
    "\n",
    "Vi skal her gjennomgå notasjon og metode for gjennomføring og analyse av 2-nivå faktorielle forsøk. Som illustrasjon vil vi bruke et $2^2$ forsøk. Dypere forståelse får du ved å arbeide med flere eksempler som er tilgjengelige som egne notatbøker. Du bør også se emnets temavideoer og lese i kompendiet. \n",
    "\n",
    "Du kommer til å trenge disse pakkene for å kjøre Python-kode underveis i denne notatboken:"
   ]
  },
  {
   "cell_type": "code",
   "execution_count": null,
   "id": "6a8e3dc6-63cf-4469-8b1a-59fc1cf5f677",
   "metadata": {
    "tags": []
   },
   "outputs": [],
   "source": [
    "import numpy as np\n",
    "import pandas as pd\n",
    "import matplotlib.pyplot as plt\n",
    "import statsmodels.api as sms\n",
    "import statsmodels.formula.api as smf\n",
    "import seaborn as sns\n",
    "from scipy import stats"
   ]
  },
  {
   "cell_type": "markdown",
   "id": "4c698c1b-ea17-4278-8d4d-dfaac041725d",
   "metadata": {},
   "source": [
    "Vi skal også benytte oss av noen ferdig skrevne funksjoner fra notatboken DOEfunksjoner.ipynb:"
   ]
  },
  {
   "cell_type": "code",
   "execution_count": null,
   "id": "6b5a0111-4e7c-454a-8f18-e5c5528aa9e0",
   "metadata": {
    "tags": []
   },
   "outputs": [],
   "source": [
    "run DOEfunksjoner.ipynb "
   ]
  },
  {
   "cell_type": "markdown",
   "id": "3e69faa4-cf8d-4de5-bf92-8cdc9bca60dd",
   "metadata": {},
   "source": [
    "Følgende nøkkelord vil være sentrale for forståelse og kjennskap til faktorielle forsøk og forsøksplanlegging generelt: \n",
    "\n",
    "*respons, faktor, interaksjon, gjentak, blokkdeling, hovedeffekt og samspillseffekt, signifikans*\n",
    "\n",
    "Vi skal også se på ulike metoder for å visualisere forsøkene og resultatene av disse. Husk at analyser av faktorielle forsøk er nært knyttet til multippel lineær regresjon og vi kommer dermed til å bruke Python-funksjoner for lineær regresjon for å analysere data. Samtidig vil vi vise hvordan effektestimater kan regnes ut for hånd. "
   ]
  },
  {
   "cell_type": "markdown",
   "id": "72ae27ef-e41c-4652-87e8-f3f3543792c5",
   "metadata": {},
   "source": [
    "### Forsøksdesign\n",
    "\n",
    "Vi skal se på et generelt $2^2$ faktorielt forsøk der vi er interessert i hvordan faktorene $A$ og $B$ påvirker en respons $Y$. For faktorene har vi definert to nivåer. Disse to nivåene presenteres ofte som\n",
    "\n",
    "- Lavt og høyt nivå, eller\n",
    "- $-1$ og $+1$, eller\n",
    "- $-$ og $+$\n",
    "\n",
    "Vi bruker $-1$ og $+1$ som numerisk kodingen av faktor-nivåene som vi skal bruke når vi analyserer forsøket. Vi lar variabelen $x_1$ representere faktor A slik at $x_1 = -1$ når A er på lavt nivå og $x_1 = 1$ når A er på høyt nivå. Tilsvarende vil $x_2 \\in \\{-1,1\\}$ representere høyt og lavt nivå for faktor B.\n",
    "\n",
    "De tre tabellene under illustrerer forsøksdesignet for et $2^2$ faktorielt forsøk:\n",
    "\n",
    "<table> <tr><td>\n",
    "    \n",
    "| Forsøksnr. |\n",
    "|:--------:|\n",
    "| 1 |\n",
    "| 2 |\n",
    "| 3 |\n",
    "| 4 |\n",
    "</td><td>\n",
    "\n",
    "| Faktor A | Faktor B |\n",
    "|:--------:|:--------:|\n",
    "| Lavt nivå | Lavt nivå |\n",
    "| Høyt nivå | Høyt nivå | \n",
    "| Lavt nivå | Høyt nivå |\n",
    "| Høyt nivå | Høyt nivå |\n",
    "\n",
    "</td><td>\n",
    "\n",
    "| Faktor A ($x_1$) | Faktor B ($x_2$) |\n",
    "|:--------:|:--------:|\n",
    "| $-1$ | $-1$ |\n",
    "| $+1$ | $-1$ | \n",
    "| $-1$ | $+1$ |\n",
    "| $+1$ | $+1$ |\n",
    "\n",
    "</td><td>\n",
    "\n",
    "| Faktor A ($x_1$) | Faktor B ($x_2$) |\n",
    "|:--------:|:--------:|\n",
    "| $-$ | $-$ |\n",
    "| $+$ | $-$ | \n",
    "| $-$ | $+$ |\n",
    "| $+$ | $+$ |\n",
    "</td></tr> </table>\n",
    "\n",
    "Et $2^2$ forsøk består av $2^2 = 4$ faktorkombinasjoner. Når målinger gjøres (faktor A og B settes til en av kombinasjonene og responsen $Y$ måles) skal rekkefølgen på kombinasjonene randomiseres. Python-koden under lager en tilfeldig rekkefølge av de fire faktorkombinasjonene:"
   ]
  },
  {
   "cell_type": "code",
   "execution_count": null,
   "id": "95c10270-6348-472e-ab16-2288e7aa8111",
   "metadata": {},
   "outputs": [],
   "source": [
    "forsok = np.arange(1,5)\n",
    "np.random.shuffle(forsok)\n",
    "print(forsok)"
   ]
  },
  {
   "cell_type": "markdown",
   "id": "17221b85-9083-42f3-b8e8-a4787fb73b79",
   "metadata": {},
   "source": [
    "### Resultater og effekter\n",
    "Anta at forsøket har blitt gjennomført én gang, altså en måling per faktorkombinasjon. Designmatrisa og tilhørende observasjoner av $Y$ er presentert i tabellen:\n",
    "\n",
    "| Nr | Faktor A ($x_1$) | Faktor B ($x_2$) | Utfall ($y$) |\n",
    "|:--------:|:--------:|:--------:|:--------:|\n",
    "|1| $-1$ | $-1$ | 11 |\n",
    "|2| $+1$ | $-1$ | 20 |\n",
    "|3| $-1$ | $+1$ | 18 |\n",
    "|4| $+1$ | $+1$ | 19 |\n",
    "\n",
    "Python-koden under oppsummerer den samme informasjonen."
   ]
  },
  {
   "cell_type": "code",
   "execution_count": null,
   "id": "e135987b-2503-499e-a534-f0004efd1695",
   "metadata": {
    "tags": []
   },
   "outputs": [],
   "source": [
    "X = tofaktorDOE(k=2)\n",
    "y = np.array([11,20,18,19])\n",
    "\n",
    "tab = np.column_stack([X, y])\n",
    "colnames = [\"x1\", \"x2\", \"y\"]\n",
    "df = pd.DataFrame(tab, columns=colnames)\n",
    "\n",
    "df # merk 0-indeksering i Python"
   ]
  },
  {
   "cell_type": "markdown",
   "id": "65bab91f-5988-4025-83c5-cd1647f716fc",
   "metadata": {},
   "source": [
    "### Hovedeffekter\n",
    "\n",
    "*Definisjon:* Hovedeffekten av en faktor i et 2-faktorielt forsøk er forventet gjennomsnittlig respons når faktoren er på et høyt nivå minus forventet gjennomsnittlig respons når faktoren er på et lavt nivå. \n",
    "\n",
    "Vi estimerer hovedeffekter ved å se på observasjoner i forsøket vårt. For faktor A vil estimert hovedeffekt være\n",
    "\n",
    "$\\hat{A} = \\frac{20 + 19}{2} - \\frac{11+18}{2} = 5.0$\n",
    "\n",
    "og for faktor B er estimert hovedeffekt\n",
    "\n",
    "$\\hat{B} = \\frac{18 + 19}{2} - \\frac{11+20}{2} = 3.0$\n",
    "\n",
    "Vi ser at faktor A har en noe større estimert hovedeffekt enn faktor B. Disse effektene kan vi også illustrere med såkalte hovedeffektsplott. Jo brattere linje, jo større hovedeffekt. Merk at stigningstallet til linjene i disse plottene vil være de estimerte hovedeffektene delt på 2. Det er fordi et stigningstall representerer endring på $y$-aksen når vi gjør en enhets endring i $x$, mens hovedeffekten tilsvarer endring i to enheter i $x$ (fra -1 til +1)."
   ]
  },
  {
   "cell_type": "code",
   "execution_count": null,
   "id": "46fd40e2-62ce-40bb-a5ef-33878b233682",
   "metadata": {
    "tags": []
   },
   "outputs": [],
   "source": [
    "hovedeffektsplott(data = df,k = 2, observasjoner = False)  # sett observasjoner = True hvis du også vil se observasjonene"
   ]
  },
  {
   "cell_type": "markdown",
   "id": "76853861-f126-4a46-9e28-4c938f7f9cc7",
   "metadata": {},
   "source": [
    "### Samspillseffekt (interaksjon)\n",
    "\n",
    "En samspillseffekt eksisterer dersom forventet endring i responsen $Y$ når en faktor går fra lavt til høyt nivå avhenger av nivået til de andre faktorene. \n",
    "\n",
    "*Definisjon:* Halvparten av hovedeffekten av en faktor når den andre er på høyt nivå minus halvparten av hovedeffekten av faktoren når den andre er på lavt\n",
    "nivå. \n",
    "\n",
    "I eksempelet vårt kan vi estimere samspillseffekten til faktorene $A$ og $B$. Først estimerer vi hovedeffekten av $A$ når $B$ er på et høyt nivå; $19-18 = 1$ og deretter hovedeffekten av $A$ når $B$ er på et lavt nivå: $20-11 = 9$. Deretter tar vi differansen til halvparten av disse: \n",
    "\n",
    "$\\hat{AB} = \\frac{1}{2}(19-18) - \\frac{1}{2}(20-11) =  \\frac{1}{2} - \\frac{9}{2} = -4.0$\n",
    "\n",
    "Også for interaksjoner/samspillseffekter er det nyttig å lage en figur. Figuren under viser effekten av faktor A når faktoren B er på henholdsvis lavt (svart linje) og høyt (rød linje) nivå. Dersom det *ikke* eksisterer en samspillseffekt så er disse linjene parallelle. "
   ]
  },
  {
   "cell_type": "code",
   "execution_count": null,
   "id": "76389a05-e5dc-4c93-a1f9-55c01f2eaedd",
   "metadata": {
    "tags": []
   },
   "outputs": [],
   "source": [
    "samspillsplott(df,2)"
   ]
  },
  {
   "cell_type": "markdown",
   "id": "d30b7a1b-e10c-4b4b-b825-f516be8d5bf0",
   "metadata": {},
   "source": [
    "### Multippel lineær regresjon\n",
    "Vi kan representere analysen vi har gjort til nå med en regresjonsmodell på formen $\\text{E}(Y) = \\beta_0 + \\beta_1 x_1 + \\beta_2 x_2 + \\beta_{12}x_{1}x_{2}$. De fire koeffisientene i modellen kan vi regne ut med Python-funksjoner for lineær regresjon:"
   ]
  },
  {
   "cell_type": "code",
   "execution_count": null,
   "id": "7f5f01f0-50d4-456b-9a9a-d12c2e18b448",
   "metadata": {
    "tags": []
   },
   "outputs": [],
   "source": [
    "modell1 = smf.ols('y~x1+x2+x1*x2', data=df).fit()\n",
    "print(modell1.params)"
   ]
  },
  {
   "cell_type": "markdown",
   "id": "0cf8f930-9442-4998-8fd1-8db8dcae39e9",
   "metadata": {},
   "source": [
    "Merk at parameterne $\\beta_1$ og $\\beta_2$, estimert til å være 2.5 og 1.5, representerer stigningstallene til linjene i hovedeffeksplottene. Hovedeffektene $\\hat{A}$ og $\\hat{B}$ finner vi ved å gange disse estimatene med to:\n",
    "\n",
    "$\\hat{A} = 2 \\cdot \\hat{\\beta}_1  = 2 \\cdot 2.5 = 5.0$ og\n",
    "\n",
    "$\\hat{B} = 2 \\cdot \\hat{\\beta}_2  = 2 \\cdot 1.5 = 3.0$\n",
    "\n",
    "På samme måte finner vi samspillseffekten ved å gange $\\hat{\\beta}_{12}$ med to:\n",
    "\n",
    "$\\hat{AB} = 2 \\cdot \\hat{\\beta}_{12} = 2 \\cdot (-2.0) = -4.0$"
   ]
  },
  {
   "cell_type": "markdown",
   "id": "caae8fb8-5663-41f5-991a-2f392bf56ecc",
   "metadata": {},
   "source": [
    "Effektestimatene $\\hat{A}$, $\\hat{B}$ og $\\hat{AB}$ er direkte sammenlignbare i den forstand at de representerer en forventet endring mellom høyt og lavt nivå. Vi kan visualisere dem i rekkefølge etter største absolutte effektstørrelse i et stolpedigram (gjerne kalt paretoplott)."
   ]
  },
  {
   "cell_type": "code",
   "execution_count": null,
   "id": "09affcf8-8790-40bc-94b0-b8eeba69cb66",
   "metadata": {
    "tags": []
   },
   "outputs": [],
   "source": [
    "DOEparetoplott(modell1)"
   ]
  },
  {
   "cell_type": "markdown",
   "id": "8b788392-53c5-4a22-b9d0-9d190fdabd79",
   "metadata": {},
   "source": [
    "#### Normalantagelse og statistisk inferens\n",
    "\n",
    "Merk at effektestimatene kunne regnes ut uten at vi gjorde noen spesifikke antagelser om fordelingen til responsvariabelen $Y$, bortsett fra $\\text{E}(Y) = \\beta_0 + \\beta_1 x_1 + \\beta_2 x_2 + \\beta_{12}x_{1}x_{2}$. Dersom vi i tillegg kan anta at $Y$ er tilnærmet normalfordelt med varians $\\text{Var}(Y) = \\sigma^2$ ved alle faktorkombinasjoner så kan vi også finne konfidensintervaller og utføre $t$-tester på koeffisientene $\\beta_1$, $\\beta_2$ og $\\beta_{12}$ i regresjonsmodellen. I så fall kan vi også teste om de ulike faktorene, og samspillet mellom dem, har en statisisk signifikant sammenheng med responsvariabelen. \n",
    "\n",
    "Vi antar derfor at $Y = \\beta_0 + \\beta_1 x_1 + \\beta_2 x_2 + \\beta_{12}x_{1}x_{2} + \\varepsilon$, der $\\varepsilon \\sim N(0, \\sigma)$. Merk at denne modellen består av 5 parametere; $\\beta_0$, $\\beta_1$, $\\beta_2$, $\\beta_{12}$ og $\\sigma$. For å si noe om usikkerheten i effektestimatene må vi først estimere $\\sigma$, men med bare 4 observasjoner har vi ikke nok informasjon i dataene til å gjøre det ($s^2 = \\frac{0}{0}$). Siden vi har brukt 4 observasjoner til å tilpasse regresjonsmodellen har vi ikke nok informasjon i dataene til å si noe om usikkerhet i estimatene. Vi sier gjerne at vi har brukt opp alle frihetsgradene. Vi kan ikke estimere $\\sigma$ og derfor ikke gjennomføre hypotesetester på parameterne i modellen. Skriv ut `modell1.summary()` for å se hvordan hele modellsammendraget ser ut i dette tilfellet."
   ]
  },
  {
   "cell_type": "code",
   "execution_count": null,
   "id": "d7d516ef-b29c-4b28-919d-87f3888eb7cf",
   "metadata": {
    "tags": []
   },
   "outputs": [],
   "source": [
    "print(modell1.summary())"
   ]
  },
  {
   "cell_type": "markdown",
   "id": "b4e7fb0f-14a2-4265-b88e-751e77d5f4ed",
   "metadata": {},
   "source": [
    "### Gjentak\n",
    "\n",
    "Vi skal nå gjenta (repetere) forsøket vårt, altså måle $Y$ for alle de fire faktorkombinasjonene våre en gang til. Det vil si at det totalt blir gjort $4+4=8$ enkeltforsøk. \n",
    "\n",
    "Resultatet av forsøkene er presentert i tabellen under:\n",
    "\n",
    "| Nr | Faktor A ($x_1$) | Faktor B ($x_2$) | Rep. 1 ($y$) | Rep. 2 ($y$) | Gjennomsnitt ($\\bar{y}$)|\n",
    "|:--------:|:--------:|:--------:|:--------:|:--------:|:--------:|\n",
    "|1| $-1$ | $-1$ | 11 | 13 | $\\bar{y}_1 = 12$ |\n",
    "|2| $+1$ | $-1$ | 20 | 18 | $\\bar{y}_2 = 19$ | \n",
    "|3| $-1$ | $+1$ | 18 | 16 | $\\bar{y}_3 = 17$ | \n",
    "|4| $+1$ | $+1$ | 19 | 23 | $\\bar{y}_4 = 21$ | \n",
    "\n",
    "Vi estimerer hovedeffekter ved å se på gjennomsnitt av observasjoner i forsøket vårt (siste kolonne). For faktor A vil estimert hovedeffekt være\n",
    "\n",
    "$\\hat{A} = \\frac{19 + 21}{2} - \\frac{12+17}{2} = 5.5$\n",
    "\n",
    "og for faktor B er estimert hovedeffekt\n",
    "\n",
    "$\\hat{B} = \\frac{17 + 21}{2} - \\frac{12+19}{2} = 3.5$\n",
    "\n",
    "Samspillseffekten blir nå:\n",
    "\n",
    "$\\hat{AB} = \\frac{1}{2}(21-17) - \\frac{1}{2}(19-12) =  \\frac{4}{2} - \\frac{7}{2} = -1.5$"
   ]
  },
  {
   "cell_type": "markdown",
   "id": "328546a2-7430-4e8d-ba16-99838f647a41",
   "metadata": {},
   "source": [
    "#### Gjentak i Python"
   ]
  },
  {
   "cell_type": "code",
   "execution_count": null,
   "id": "e0fc6de3-d799-4a5e-a9ed-25433d89871b",
   "metadata": {
    "tags": []
   },
   "outputs": [],
   "source": [
    "# data-matrise\n",
    "Xrep1 = tofaktorDOE(k=2)\n",
    "Xrep2 = Xrep1 # x-verdiene holdes like i de to gjentakene\n",
    "\n",
    "yrep1 = np.array([11,20,18,19])\n",
    "yrep2 = np.array([13,18,16,23]) # målingene/observasjonene vil variere mellom gjentak\n",
    "\n",
    "X = np.concatenate([Xrep1, Xrep2])\n",
    "y = np.concatenate([yrep1,yrep2])\n",
    "\n",
    "tab = np.column_stack([X, y])\n",
    "colnames = [\"x1\", \"x2\", \"y\"]\n",
    "dfgjentak = pd.DataFrame(tab, columns=colnames)\n",
    "\n",
    "print(dfgjentak) # merk 0-indeksering i Python og merk at vi ikke manuelt regner ut gjennomsnittene over to gjentak"
   ]
  },
  {
   "cell_type": "code",
   "execution_count": null,
   "id": "5b120d36-b7ec-4e82-9e6f-4d61187b8f8b",
   "metadata": {
    "tags": []
   },
   "outputs": [],
   "source": [
    "hovedeffektsplott(dfgjentak, k = 2)"
   ]
  },
  {
   "cell_type": "code",
   "execution_count": null,
   "id": "af738099-4723-412b-9daa-0d9e4ece4c33",
   "metadata": {
    "tags": []
   },
   "outputs": [],
   "source": [
    "samspillsplott(dfgjentak, k = 2)"
   ]
  },
  {
   "cell_type": "code",
   "execution_count": null,
   "id": "a0cbccd8-70fc-456d-8b67-a580624cdc40",
   "metadata": {
    "tags": []
   },
   "outputs": [],
   "source": [
    "modell2 = smf.ols('y~x1+x2+x1*x2', data=dfgjentak).fit()\n",
    "print(modell2.params)\n",
    "#print(modell2.summary())"
   ]
  },
  {
   "cell_type": "markdown",
   "id": "17222a35-91ba-41dd-9c65-f54ffa40ab64",
   "metadata": {},
   "source": [
    "Fra utskriften ser vi at estimerte koeffisienter i regresjonsmodellen er $\\hat{\\beta}_1 = 2.75$, $\\hat{\\beta}_2 = 1.75$ og $\\hat{\\beta}_{12} = -0.75$. Husk at i regresjonsmodeller representerer koeffisientene den forventede effekten en kovariat har på responsen når kovariaten endrer seg med én enhet (f.eks $x_1$ går fra 0 til 1), altså et *stigningstall*. I faktorielle forsøk definerer vi faktoreffekter som forventet endring i responsen $Y$ når variablen endrer nivå fra -1 til +1, altså en økning med *to* enheter. For å gå fra estimerte koeffisienter (stigningstall) i regresjonsmodellen til våre hovedeffekter og samspillseffekter kan vi derfor gange alle de estimerte koeffisientene med to: \n",
    "\n",
    "$\\hat{A} = 2 \\hat{\\beta}_1 = 2 \\cdot 2.75 = 5.5$\n",
    "\n",
    "$\\hat{B} = 2 \\hat{\\beta}_2 = 2 \\cdot 1.75 = 3.5$\n",
    "\n",
    "$\\hat{AB} = 2 \\hat{\\beta}_{12} = 2 \\cdot (-0.75) = -1.5$\n",
    "\n",
    "Fra utskriften kan vi også direkte lese ut om effektene er signifikant forskjellige fra null ved et valgt signifikansnivå $\\alpha$. Dersom koeffisientene i regresjonsmodellen er signifikant ulike null ved signifikansnivå $\\alpha$ (altså $p < \\alpha$, der vi finner $p$-verdien fra kolonnen `P>|t|`) er også hovedeffekter og samspillseffekter signifikant ulike 0. \n",
    "\n",
    "Ved å kjøre et gjentak av forsøket vårt har vi flere observasjoner og et mer pålitelig resultat. Fra modell-sammendraget kan vi lese at kun $\\beta_1$ er signifikant ulik fra null ved signifikansnivå $0.05$. Dermed er det bare faktor A som ser ut til å være signifikant assositert med responsen.  Vi ser også at det som kunne se ut som en samspillseffekt i første forsøk nå har forsvunnet (ikke statistisk signifikant, se `modell2.summary()`) og vi ser omtrent parallelle linjer i samspillsplottet vårt. "
   ]
  },
  {
   "cell_type": "code",
   "execution_count": null,
   "id": "294bbc3d-98d7-4cd3-8b94-84c04a4fbbec",
   "metadata": {
    "tags": []
   },
   "outputs": [],
   "source": [
    "DOEparetoplott(modell2) # den røde stiplede linjen viser kritisk verdi for statistisk signifikans"
   ]
  },
  {
   "cell_type": "markdown",
   "id": "e35c94c8-a8ad-48d7-82fe-ce4ffed2ca99",
   "metadata": {},
   "source": [
    "### Huskeregel for manuell utregning av effekter\n",
    "\n",
    "Designet og kodingen av 2-nivå faktorielle forsøk gir oss en unik mulighet til å (relativt) raskt regne ut effekter manuelt. Vi kan også bruke designet til å lage oss en huskeregel. Først presenterer vi designet (inkludert samspill) og resultatet (målinger av responsen $y$ fra ett gjentak eller gjennomsnittet over flere gjentak) i en tabell:\n",
    "\n",
    "| Faktor A ($x_1$) | Faktor B ($x_2$) | Samspill ($x_1 \\cdot x_2$) | Gjennomsnitt ($\\bar{y}$)|\n",
    "|:--------:|:--------:|:--------:|:--------:|\n",
    "| $-1$ | $-1$ | $+1$ | $\\bar{y}_1 = 12$ |\n",
    "| $+1$ | $-1$ | $-1$ | $\\bar{y}_2 = 19$ |\n",
    "| $-1$ | $+1$ | $-1$ | $\\bar{y}_3 = 17$ |\n",
    "| $+1$ | $+1$ | $+1$ | $\\bar{y}_4 = 21$ |\n",
    "\n",
    "Deretter brukter vi fortegnene i de tre første kolonnene i tabellen for å regne ut effekter:\n",
    "\n",
    "$\\hat{A} = \\frac{-\\bar{y}_1 + \\bar{y}_2 - \\bar{y}_3 + \\bar{y}_4}{2} = \\frac{-12+19-17+21}{2} = 5.5$\n",
    "\n",
    "$\\hat{B} = \\frac{-\\bar{y}_1 - \\bar{y}_2 + \\bar{y}_3 + \\bar{y}_4}{2} = \\frac{-12-19+17+21}{2} = 3.5$\n",
    "\n",
    "$\\hat{AB} = \\frac{\\bar{y}_1 - \\bar{y}_2 - \\bar{y}_3 + \\bar{y}_4}{2} = \\frac{12-19-17+21}{2} = -1.5$\n"
   ]
  },
  {
   "cell_type": "markdown",
   "id": "b0541e30-f2c2-4a33-b1b8-a601ad645b9c",
   "metadata": {},
   "source": [
    "## Videre arbeid\n",
    "\n",
    "Denne notatboken ga en kort introduksjon til notasjon og analyse i to-nivå faktorielle forsøk. Videre må du se videoer, jobbe gjennom eksempler og lese kompendiet for å forstå $2^3$ og $2^4$ forsøk, gjentak eller ikke gjentak, blokkdeling, sjekk av modellantagelser, osv."
   ]
  }
 ],
 "metadata": {
  "kernelspec": {
   "display_name": "Python 3 (ipykernel)",
   "language": "python",
   "name": "python3"
  },
  "language_info": {
   "codemirror_mode": {
    "name": "ipython",
    "version": 3
   },
   "file_extension": ".py",
   "mimetype": "text/x-python",
   "name": "python",
   "nbconvert_exporter": "python",
   "pygments_lexer": "ipython3",
   "version": "3.11.5"
  }
 },
 "nbformat": 4,
 "nbformat_minor": 5
}
