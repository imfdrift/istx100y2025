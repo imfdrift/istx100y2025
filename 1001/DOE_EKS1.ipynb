{
 "cells": [
  {
   "cell_type": "markdown",
   "id": "cdd02d11-9bba-463e-818a-ef2039abe632",
   "metadata": {},
   "source": [
    "# Forsøksplanlegging eksempel 1: Kjøretid til algoritme\n",
    "### Prosjektmodul i ISTx1001\n",
    "\n",
    "I dette eksempelet skal vi bruke forsøksplanlegging til å avgjøre hvordan to programmeringsvalg påvirker kjøretiden til en algoritme. I dette eksempelet er responsvariabelen $Y$ kjøretid (målt i sekunder). Algoritmen er en funksjon som kan brukes for illustrere sentralgrenseteoremet (en variant av denne ble presentert i Uke 6 av fellesmodulen). \n",
    "\n",
    "For et gitt antall simuleringer trekkes tallverdier fra $n$ uavhengige Poissonfordelte stokastiske variabler, alle med forventningsverdi $\\mu = 3$. En slik trekning kan gjøres på to ulike måter (dette er faktor $A$ i forsøket vårt):\n",
    "- Lavt nivå faktor $A$: $n$ observasjoner trekkes med `np.random.poisson(mu, size=n)`\n",
    "- Høyt nivå faktor $A$: $n$ observasjoner trekkes en etter en med `np.random.poisson(mu)` i en for-løkke\n",
    "\n",
    "Etter at $n$ tallverdier er trukket skal gjennomsnittet av disse regnes ut. Dette kan vi gjøre på to ulike måter (dette blir faktor $B$ i forsøket vårt):\n",
    "- Lavt nivå faktor $B$: gjennomsnittet regnes ut med `np.mean(poisson_values)`\n",
    "- Høyt nivå faktor $B$: gjennomsnittet regnes ut med `np.sum(poisson_values)/n`\n",
    "\n",
    "\n",
    "Designet kan presenteres slik:\n",
    "\n",
    "<table> <tr><td>\n",
    "    \n",
    "| Forsøksnr. |\n",
    "|:--------:|\n",
    "| 1 |\n",
    "| 2 |\n",
    "| 3 |\n",
    "| 4 |\n",
    "\n",
    "</td><td>\n",
    "\n",
    "| Faktor $A$ ($x_1$) | Faktor $B$ ($x_2$) |\n",
    "|:--------:|:--------:|\n",
    "| $-1$ | $-1$ |\n",
    "| $+1$ | $-1$ | \n",
    "| $-1$ | $+1$ |\n",
    "| $+1$ | $+1$ |\n",
    "\n",
    "</td></tr> </table>\n",
    "\n",
    "Med dette designet får vi altså 4 ulike faktorkombinasjoner, som tilsvarer 4 ulike algoritmer. Disse algoritmene `simulate_poisson_average_1`, `simulate_poisson_average_2`, `simulate_poisson_average_3` og `simulate_poisson_average_4` finner du nederst i denne notatboken dersom du er interessert i å gjennomføre forsøket om igjen. \n",
    "\n",
    "I koden under har vi registrert observasjonene våre, visualisert og analysert dataene. Merk at dette ikke er et eksempel på strukturering av en prosjektrapport. "
   ]
  },
  {
   "cell_type": "code",
   "execution_count": null,
   "id": "4ecfa40a-b906-463b-80df-b22698c532f9",
   "metadata": {
    "tags": []
   },
   "outputs": [],
   "source": [
    "import numpy as np\n",
    "import pandas as pd\n",
    "import matplotlib.pyplot as plt\n",
    "import statsmodels.api as sms\n",
    "import statsmodels.formula.api as smf\n",
    "import seaborn as sns\n",
    "\n",
    "import time # for å registrere kjøretid til en algoritme"
   ]
  },
  {
   "cell_type": "code",
   "execution_count": null,
   "id": "fe6b2dc9-1ee4-4ec4-988b-2bb1726b8579",
   "metadata": {
    "tags": []
   },
   "outputs": [],
   "source": [
    "run DOEfunksjoner.ipynb "
   ]
  },
  {
   "cell_type": "code",
   "execution_count": null,
   "id": "a6c2a108-7516-479a-af58-cfb66613804c",
   "metadata": {
    "tags": []
   },
   "outputs": [],
   "source": [
    "# data-matrise\n",
    "Xrep1 = tofaktorDOE(k=2)\n",
    "Xrep2 = Xrep1 # x-verdiene holdes like i de to gjentakene\n",
    "\n",
    "yrep1 = np.array([0.0243,0.1204,0.0195,0.1138]) # observerte kjøretider fra første repetisjon \n",
    "yrep2 = np.array([0.0251,0.1117,0.0196,0.1059]) # observerte kjøretider fra andre repetisjon\n",
    "\n",
    "X = np.concatenate([Xrep1, Xrep2])\n",
    "y = np.concatenate([yrep1,yrep2])\n",
    "\n",
    "tab = np.column_stack([X, y])\n",
    "colnames = [\"x1\", \"x2\", \"y\"]\n",
    "dfgjentak = pd.DataFrame(tab, columns=colnames)\n",
    "\n",
    "print(dfgjentak) # merk 0-indeksering i Python og merk at vi ikke manuelt regner ut gjennomsnittene over to gjentak"
   ]
  },
  {
   "cell_type": "markdown",
   "id": "19cb0696-d4e5-48ec-9807-ef71275b053f",
   "metadata": {
    "tags": []
   },
   "source": [
    "### Hovedeffekter\n",
    "\n",
    "Fra hovedeffektsplottene ser vi tydelig at kjøretiden øker når faktor A går fra lavt til høyt nivå. Det vil si at for-løkken for å trekke en og en observasjon fra en Poissonfordeling er vesentlig tregere enn den innebygde funksjonen fra numpy. For faktor B ser vi bare en ørliten nedgang når faktor B går fra lavt til høyt nivå. En nedgang vil tilsi at `np.mean(poisson_values)` er en tregere funksjon enn `np.sum(poisson_values)/n`, men i figuren er stigningstallet så nære null at vi ikke kan fastslå dette uten å se på statistisk signifikans. "
   ]
  },
  {
   "cell_type": "code",
   "execution_count": null,
   "id": "153bffd5-ea6e-4419-8da2-c61667c38498",
   "metadata": {
    "tags": []
   },
   "outputs": [],
   "source": [
    "hovedeffektsplott(data = dfgjentak, k = 2)"
   ]
  },
  {
   "cell_type": "markdown",
   "id": "3dd526b3-402b-4880-ae29-1ab7c1893238",
   "metadata": {},
   "source": [
    "## Samspillseffekter\n",
    "\n",
    "I samspillsplottet ser vi to parallelle linjer. Dette tilsier at det ikke finnes noen samspillseffekt. Det ville forøvrig være rart om vi så et samspill siden de to ulike faktorene ikke har noe med hverandre å gjøre når algoritmen skrives."
   ]
  },
  {
   "cell_type": "code",
   "execution_count": null,
   "id": "eaa8ec71-52ed-497c-8196-9b5c16a25dd0",
   "metadata": {
    "tags": []
   },
   "outputs": [],
   "source": [
    "samspillsplott(data = dfgjentak,k = 2)"
   ]
  },
  {
   "cell_type": "markdown",
   "id": "0b34ecfa-dd02-40e6-bbca-8f40bb8b1e32",
   "metadata": {},
   "source": [
    "## Estimering av effekter\n",
    "Vi estimerer hovedeffekter, samspillseffekt og ser på statistisk signifikans ved å tilpasse en multippel lineær regresjonsmodell til dataene (se resultater under). Regresjonsmodellen bekrefter det vi allerede har lest ut av figurene; faktor $A$ har den største estimerte hovedeffekten $\\hat{A} = 2 \\hat{\\beta}_1 = 0.0908$ og det er kun denne effekten som er signifikant ulik null ved signifikansnivå $\\alpha = 0.05$. Hovedeffekten til faktor $B$ er ikke signifikant ($p = 0.126$) og det er heller ikke samspillseffekten ($p = 0.867$). Forskjellen mellom effektene vises også tydelig i Paretoplottet. "
   ]
  },
  {
   "cell_type": "code",
   "execution_count": null,
   "id": "8518484a-b068-4ca2-91ec-e1ad77538b5b",
   "metadata": {
    "tags": []
   },
   "outputs": [],
   "source": [
    "modell = smf.ols('y~x1+x2+x1*x2', data=dfgjentak).fit()\n",
    "#print(modell.summary())"
   ]
  },
  {
   "cell_type": "code",
   "execution_count": null,
   "id": "c6a91918-61fc-485b-a5f2-def36a30d34c",
   "metadata": {
    "tags": []
   },
   "outputs": [],
   "source": [
    "DOEparetoplott(modell)"
   ]
  },
  {
   "cell_type": "markdown",
   "id": "0135d3d8-828b-44b1-b492-118ee35e7199",
   "metadata": {},
   "source": [
    "### Her finner du algoritmer for de fire ulike faktorkombinasjonene"
   ]
  },
  {
   "cell_type": "code",
   "execution_count": null,
   "id": "3994f30c-2f92-4f0c-b3b4-2c2803bf28d3",
   "metadata": {},
   "outputs": [],
   "source": [
    "def simulate_poisson_average_1(nsim, n, mu): # x1 = -1, x2 = -1\n",
    "    averages = []  \n",
    "\n",
    "    for i in range(nsim):\n",
    "        # Trekk observasjoner fra n uavhengige Poissonfordelte variabler\n",
    "        poisson_values = np.random.poisson(mu, size=n)\n",
    "\n",
    "        # Regn ut gjennomsnittet\n",
    "        average = np.mean(poisson_values)\n",
    "        averages.append(average)\n",
    "\n",
    "    return averages"
   ]
  },
  {
   "cell_type": "code",
   "execution_count": null,
   "id": "af3cec58-b19e-4940-808e-e0b10355530f",
   "metadata": {},
   "outputs": [],
   "source": [
    "def simulate_poisson_average_2(nsim, n, mu): # x1 = -1, x2 = +1\n",
    "    averages = []  \n",
    "\n",
    "    for i in range(nsim):\n",
    "        # Trekk observasjoner fra n uavhengige Poissonfordelte variabler\n",
    "        poisson_values = []\n",
    "        for j in range(n):\n",
    "            poisson_values.append(np.random.poisson(mu))\n",
    "        \n",
    "        # Regn ut gjennomsnittet\n",
    "        average = np.mean(poisson_values)\n",
    "        averages.append(average)\n",
    "\n",
    "    return averages"
   ]
  },
  {
   "cell_type": "code",
   "execution_count": null,
   "id": "38598941-51e1-49ab-a985-5ebd13b02fca",
   "metadata": {},
   "outputs": [],
   "source": [
    "def simulate_poisson_average_3(nsim, n, mu): # x1 = -1, x2 = +1\n",
    "    averages = []  \n",
    "\n",
    "    for i in range(nsim):\n",
    "        # Trekk observasjoner fra n uavhengige Poissonfordelte variabler\n",
    "        poisson_values = np.random.poisson(mu, size=n)\n",
    "\n",
    "        # Regn ut gjennomsnittet\n",
    "        average = np.sum(poisson_values)/len(poisson_values)\n",
    "        averages.append(average)\n",
    "\n",
    "    return averages"
   ]
  },
  {
   "cell_type": "code",
   "execution_count": null,
   "id": "ecaadcfb-f8cd-4ae6-836a-256a5ddb2eaf",
   "metadata": {},
   "outputs": [],
   "source": [
    "def simulate_poisson_average_4(nsim, n, mu): # x1 = +1, x2 = +1\n",
    "    averages = []  \n",
    "\n",
    "    for i in range(nsim):\n",
    "        # Trekk observasjoner fra n uavhengige Poissonfordelte variabler\n",
    "        poisson_values = []\n",
    "        for j in range(n):\n",
    "            poisson_values.append(np.random.poisson(mu))\n",
    "\n",
    "        # Regn ut gjennomsnittet\n",
    "        average = np.sum(poisson_values)/len(poisson_values)\n",
    "        averages.append(average)\n",
    "\n",
    "    return averages"
   ]
  },
  {
   "cell_type": "code",
   "execution_count": null,
   "id": "ecf25ad8-9326-4b8b-8f25-c9ce04490d30",
   "metadata": {},
   "outputs": [],
   "source": [
    "# Kjøre en faktorkombinasjon og notere kjøretid\n",
    "\n",
    "n = 100\n",
    "mu = 3\n",
    "nsim = 1000\n",
    "\n",
    "start = time.time()\n",
    "simulate_poisson_average_1(nsim, n, mu) # endre funksjonsnavn avhengig av faktorkombinasjon\n",
    "end = time.time()\n",
    "print(end - start)"
   ]
  }
 ],
 "metadata": {
  "kernelspec": {
   "display_name": "Python 3 (ipykernel)",
   "language": "python",
   "name": "python3"
  },
  "language_info": {
   "codemirror_mode": {
    "name": "ipython",
    "version": 3
   },
   "file_extension": ".py",
   "mimetype": "text/x-python",
   "name": "python",
   "nbconvert_exporter": "python",
   "pygments_lexer": "ipython3",
   "version": "3.11.5"
  }
 },
 "nbformat": 4,
 "nbformat_minor": 5
}
