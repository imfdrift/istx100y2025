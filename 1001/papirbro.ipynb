{
 "cells": [
  {
   "cell_type": "markdown",
   "id": "054acea9-1879-4422-a685-2b4a96f16994",
   "metadata": {},
   "source": [
    "# Papirbro"
   ]
  },
  {
   "cell_type": "code",
   "execution_count": null,
   "id": "b3328579-fce1-4a36-8878-7e4b152546bc",
   "metadata": {
    "tags": []
   },
   "outputs": [],
   "source": [
    "import pandas as pd\n",
    "import seaborn as sns\n",
    "import matplotlib.pyplot as plt\n",
    "import numpy as np\n",
    "import statsmodels.api as sms\n",
    "import statsmodels.formula.api as smf\n",
    "from scipy import stats"
   ]
  },
  {
   "cell_type": "code",
   "execution_count": null,
   "id": "273c8822-0e52-4cb7-953f-a6978a645f4e",
   "metadata": {
    "tags": []
   },
   "outputs": [],
   "source": [
    "run DOEfunksjoner.ipynb "
   ]
  },
  {
   "cell_type": "markdown",
   "id": "c1634c47-ed7a-47ba-beea-537392ba440d",
   "metadata": {},
   "source": [
    "## DEL 1"
   ]
  },
  {
   "cell_type": "code",
   "execution_count": null,
   "id": "249a7297-07a0-47ca-9d9e-d0aa03fa002d",
   "metadata": {
    "tags": []
   },
   "outputs": [],
   "source": [
    "X = tofaktorDOE(k=3)\n",
    "print(X)"
   ]
  },
  {
   "cell_type": "code",
   "execution_count": null,
   "id": "0a361ef4-9779-4610-8a40-1356d3d983dc",
   "metadata": {
    "tags": []
   },
   "outputs": [],
   "source": [
    "y1 = [8.7, 17.4, 0, 8.7, 8.7, 30.45, 4.35, 13.05]\n",
    "y2 = [4.35, 17.4, 4.35, 8.7, 8.7, 34.8, 4.35, 21.75]"
   ]
  },
  {
   "cell_type": "code",
   "execution_count": null,
   "id": "450af36f-4417-4da2-a7da-df2ca8cfe817",
   "metadata": {
    "tags": []
   },
   "outputs": [],
   "source": [
    "tab = np.column_stack([X, y1,y2])\n",
    "colnames = [\"x1\", \"x2\",\"x3\", \"y1\",\"y2\"]\n",
    "df = pd.DataFrame(tab,columns=colnames)\n",
    "print(df)"
   ]
  },
  {
   "cell_type": "code",
   "execution_count": null,
   "id": "ed8af0e3-21c2-4343-be5a-fc1acf2aafdd",
   "metadata": {
    "tags": []
   },
   "outputs": [],
   "source": [
    "colnames = [\"x1\", \"x2\",\"x3\", \"y\"]\n",
    "rep1 = pd.DataFrame(np.column_stack([X, y1]),columns=colnames)\n",
    "rep2 = pd.DataFrame(np.column_stack([X, y2]),columns=colnames)\n",
    "\n",
    "df = pd.concat([rep1,rep2])\n",
    "\n",
    "print(df)"
   ]
  },
  {
   "cell_type": "code",
   "execution_count": null,
   "id": "9b1a3e43-69be-40f1-93b0-58834e77ca78",
   "metadata": {
    "tags": []
   },
   "outputs": [],
   "source": [
    "modell = smf.ols('y~x1+x2+x3 + x1*x2 + x2*x3 + x1*x3', data=df).fit()\n",
    "print(modell.summary())"
   ]
  },
  {
   "cell_type": "code",
   "execution_count": null,
   "id": "747b95f5-d037-44ed-a36e-20798f33b2a3",
   "metadata": {
    "tags": []
   },
   "outputs": [],
   "source": [
    "DOEparetoplott(modell)"
   ]
  },
  {
   "cell_type": "code",
   "execution_count": null,
   "id": "a888e7da-4c6b-43e5-a0d1-13e44ded1685",
   "metadata": {
    "tags": []
   },
   "outputs": [],
   "source": [
    "hovedeffektsplott(data = df, k = 3, observasjoner = True)"
   ]
  },
  {
   "cell_type": "code",
   "execution_count": null,
   "id": "3910abbd-28cc-43de-a5ac-209355d0e5e8",
   "metadata": {
    "tags": []
   },
   "outputs": [],
   "source": [
    "samspillsplott(data = df, k = 3)"
   ]
  },
  {
   "cell_type": "code",
   "execution_count": null,
   "id": "53aebc02-d2e1-4a28-a8f7-3f77e6aacde7",
   "metadata": {
    "tags": []
   },
   "outputs": [],
   "source": [
    "sms.qqplot(modell.resid,line='45',fit=True)\n",
    "plt.ylabel(\"Kvantiler i residualene\")\n",
    "plt.xlabel(\"Kvantiler i normalfordelingen\")\n",
    "plt.show()"
   ]
  },
  {
   "cell_type": "markdown",
   "id": "804b97e8-6232-46e5-bbad-ccc927cd11dd",
   "metadata": {},
   "source": [
    "## DEL 2"
   ]
  },
  {
   "cell_type": "code",
   "execution_count": null,
   "id": "3419eb7c-c680-4a98-a9a7-a412722438a3",
   "metadata": {
    "tags": []
   },
   "outputs": [],
   "source": [
    "varY = modell.mse_resid\n",
    "sdY = np.sqrt(varY)\n",
    "print(round(sdY,2))"
   ]
  },
  {
   "cell_type": "code",
   "execution_count": null,
   "id": "26e8e0c6-00f3-4447-b7aa-a19b80e1bfd1",
   "metadata": {
    "tags": []
   },
   "outputs": [],
   "source": [
    "modell.mse_resid"
   ]
  },
  {
   "cell_type": "code",
   "execution_count": null,
   "id": "6df96539-e530-44f3-adef-18a6bb8c0752",
   "metadata": {
    "tags": []
   },
   "outputs": [],
   "source": [
    "modell.predict()"
   ]
  },
  {
   "cell_type": "markdown",
   "id": "dd7c2936-5786-455a-a1d0-d14327fe52e1",
   "metadata": {},
   "source": [
    "## Stokastisk simulering\n",
    "Her simulerer jeg 100 broer fra en produksjon som er under kontroll (dere skal ikke gjøre dette i prosjektet, dette er bare for å visulisere hvordan en slik prosess ser ut)"
   ]
  },
  {
   "cell_type": "code",
   "execution_count": null,
   "id": "8dcd811b-8c6c-4473-b6cc-f12a8957d945",
   "metadata": {
    "tags": []
   },
   "outputs": [],
   "source": [
    "mean = 31.81\n",
    "std_dev = 2.92\n",
    "antall_broer = 100\n",
    "bæreevne = np.zeros(antall_broer)\n",
    "\n",
    "for i in range(antall_broer):\n",
    "    bæreevne[i] = np.random.normal(mean, std_dev)\n",
    "\n",
    "bro_nr = np.arange(1, antall_broer + 1)\n",
    "\n",
    "plt.scatter(bro_nr, bæreevne, marker='o',color='b')\n",
    "plt.ylim(10,60); plt.xlabel(\"Bro nr.\"); plt.ylabel(\"Observert bæreevne\")\n",
    "plt.grid()\n",
    "plt.show()"
   ]
  },
  {
   "cell_type": "markdown",
   "id": "7951b972-4fae-4bc6-b8ac-8bb07ed2bd66",
   "metadata": {},
   "source": [
    "Her simulerer jeg 100 broer fra en produksjon som ikke er under kontroll (dere skal ikke gjøre dette i prosjektet, dette er bare for å visulisere hvordan en slik prosess ser ut). Her endrer forventningsverdien seg med $- 0.2\\cdot \\sigma$ for hver femte bro som produseres"
   ]
  },
  {
   "cell_type": "code",
   "execution_count": null,
   "id": "0ea64a2c-a569-4519-9282-18e2cdf5f339",
   "metadata": {
    "tags": []
   },
   "outputs": [],
   "source": [
    "mean = 31.81\n",
    "std_dev = 2.92\n",
    "antall_broer = 100\n",
    "bæreevne = np.zeros(antall_broer)\n",
    "\n",
    "for i in range(antall_broer):\n",
    "    if (i + 1) % 5 == 0:\n",
    "        mean -= 0.3 * std_dev\n",
    "    bæreevne[i] = np.random.normal(mean, std_dev)\n",
    "\n",
    "bro_nr = np.arange(1, antall_broer + 1)\n",
    "\n",
    "plt.scatter(bro_nr, bæreevne, marker='o',  color='b')\n",
    "plt.ylim(0,60); plt.xlabel(\"Bro nr.\"); plt.ylabel(\"Observert bæreevne\")\n",
    "plt.grid()\n",
    "plt.show()"
   ]
  },
  {
   "cell_type": "markdown",
   "id": "fc4c30e3-6fc9-4f7d-a548-521e1d92716e",
   "metadata": {},
   "source": [
    "Her simulerer jeg 100 broer fra en produksjon som ikke er under kontroll (dere skal ikke gjøre dette i prosjektet, dette er bare for å visulisere hvordan en slik prosess ser ut). Her endrer standardavviket seg med $+ 0.5$ for hver femte bro som produseres"
   ]
  },
  {
   "cell_type": "code",
   "execution_count": null,
   "id": "5bdbf5d0-4d24-4fe1-b4c7-0851c7ff289c",
   "metadata": {
    "tags": []
   },
   "outputs": [],
   "source": [
    "mean = 31.81\n",
    "std_dev = 2.92\n",
    "antall_broer = 100\n",
    "bæreevne = np.zeros(antall_broer)\n",
    "\n",
    "for i in range(antall_broer):\n",
    "    if (i + 1) % 5 == 0:\n",
    "        std_dev += 0.5\n",
    "    bæreevne[i] = np.random.normal(mean, std_dev)\n",
    "\n",
    "bro_nr = np.arange(1, antall_broer + 1)\n",
    "\n",
    "plt.scatter(bro_nr, bæreevne, marker='o', color='b')\n",
    "plt.ylim(0,60); plt.xlabel(\"Bro nr.\"); plt.ylabel(\"Observert bæreevne\")\n",
    "plt.grid()\n",
    "plt.show()"
   ]
  },
  {
   "cell_type": "markdown",
   "id": "90390a7e-9a10-4508-8da5-df4124ba1fac",
   "metadata": {},
   "source": [
    "### Kontrollgrenser og stikkprøver\n",
    "MERK: Dere skal gjøre noe som ligner på dette i del 2 av prosjektet, men dere må gjøre noen endringer i koden!"
   ]
  },
  {
   "cell_type": "code",
   "execution_count": null,
   "id": "431a63bb-2be9-41ef-a917-4fda1f0ba631",
   "metadata": {
    "tags": []
   },
   "outputs": [],
   "source": [
    "mean = 31.81\n",
    "std_dev = 2.92\n",
    "\n",
    "n_stikkprøve = 5\n",
    "cu_mean = mean + 3*std_dev/np.sqrt(n_stikkprøve)\n",
    "cl_mean = mean - 3*std_dev/np.sqrt(n_stikkprøve)\n",
    "\n",
    "print(cu_mean)\n",
    "print(cl_mean)\n",
    "\n",
    "cu_std = std_dev*np.sqrt(stats.chi2.ppf(1-0.002,(n_stikkprøve-1))/(n_stikkprøve-1))\n",
    "cl_std = std_dev*np.sqrt(stats.chi2.ppf(0.002,(n_stikkprøve-1))/(n_stikkprøve-1))\n",
    "print(cu_std)\n",
    "print(cl_std)\n"
   ]
  },
  {
   "cell_type": "code",
   "execution_count": null,
   "id": "6efc7e75-7aff-456e-80c0-6094d3f910bb",
   "metadata": {
    "tags": []
   },
   "outputs": [],
   "source": [
    "stikkprøver = 50\n",
    "mean = 31.81\n",
    "std_dev = 2.92\n",
    "\n",
    "snitt_bæreevne = np.zeros(stikkprøver)\n",
    "std_bæreevne = np.zeros(stikkprøver)\n",
    "\n",
    "for i in range(stikkprøver):\n",
    "    utvalg = np.random.normal(mean, std_dev, n_stikkprøve)\n",
    "    snitt_bæreevne[i] = np.mean(utvalg)\n",
    "    std_bæreevne[i] = np.std(utvalg, ddof=1)\n",
    "\n",
    "stikkprøve_nr = np.arange(1, stikkprøver + 1)\n",
    "\n",
    "plt.scatter(stikkprøve_nr, snitt_bæreevne, marker='o', color='b')\n",
    "plt.ylim(10,50); plt.xlabel(\"Stikkprøve nr.\"); plt.ylabel(\"Gjennomsnittlig bæreevne\")\n",
    "plt.axhline(y=cu_mean, color='r', linestyle='--'); plt.axhline(y=cl_mean, color='r', linestyle='--')\n",
    "plt.grid()\n",
    "plt.show()"
   ]
  },
  {
   "cell_type": "markdown",
   "id": "777ad946-5f19-466f-83ad-14b0c52625d2",
   "metadata": {},
   "source": [
    "Over ser vi en simuleringer av stikkprøver basert på 5 broer av gangen. Vi har plottet oververt gjennomsnittlig bæreevne for de fem broene i hver stikkprøve. Prosessen er under kontroll. Kontrollgrensene er tegnet som røde linjer. Dette er et Shewarts $\\bar{x}$-diagram.\n",
    "\n",
    "Sammenligne gjerne med figuren som viste simulering av 100 broer. Ser dere at variasjonen er mye lavere nå som vi ser på fem broer av gangen, i stedet for en og en?\n",
    "\n",
    "Under ser du et $s$-diagram for standardavviket i kontrollprøvene. Her ser vi hvordan empirisk standardavvik i hver stikkprøve fordeler seg når prosessen er under kontroll. Kontrollgrensene for standardavviket er tegnet som røde linjer."
   ]
  },
  {
   "cell_type": "code",
   "execution_count": null,
   "id": "cf6e3c91-d303-45f9-8a7a-86a71becaf36",
   "metadata": {
    "tags": []
   },
   "outputs": [],
   "source": [
    "plt.scatter(stikkprøve_nr, std_bæreevne, marker='o', color='b')\n",
    "plt.ylim(0,8); plt.xlabel(\"Stikkprøve nr.\"); plt.ylabel(\"Empirisk standardavvik bæreevne\")\n",
    "plt.axhline(y=cu_std, color='r', linestyle='--')\n",
    "plt.axhline(y=cl_std, color='r', linestyle='--')\n",
    "plt.grid()\n",
    "plt.show()"
   ]
  },
  {
   "cell_type": "markdown",
   "id": "f40b584a-ce8d-41b8-bd13-f799e4d7e5c2",
   "metadata": {},
   "source": [
    "### Stokastisk simulering av stikkprøver når parametere endrer seg\n",
    "I simuleringen under har jeg kodet inn at forventningsverdien endrer seg med $+0.5$ for hver femte stikkprøve. Jeg har også kodet inn at standardavviket endrer seg med $+0.1$ for hver femte stikkprøve. Vi observerer hva som skjer i $\\bar{x}$- og $s$-diagrammer. \n",
    "\n",
    "*MERK!* Dere skal ikke gjøre akkurat det samme i prosjektet, tilpass simuleringer til oppgavebeskrivelsen.\n",
    "\n",
    "Kjør gjerne simuleringen flere ganger for å se hva som skjer. Når går alarmen? Ser vi utslagene først i $\\bar{x}$-diagrammet eller ${s}$-diagrammet? (dette kan endre seg mellom simuleringer)"
   ]
  },
  {
   "cell_type": "code",
   "execution_count": null,
   "id": "e0083d7a-01c5-4869-9550-4326558977d1",
   "metadata": {
    "tags": []
   },
   "outputs": [],
   "source": [
    "stikkprøver = 50\n",
    "\n",
    "mean = 31.81\n",
    "std_dev = 2.92\n",
    "\n",
    "snitt_bæreevne = np.zeros(stikkprøver)\n",
    "std_bæreevne = np.zeros(stikkprøver)\n",
    "\n",
    "for i in range(stikkprøver):\n",
    "    if (i + 1) % 5 == 0:\n",
    "        mean += 0.5\n",
    "        std_dev += 0.1\n",
    "    utvalg = np.random.normal(mean, std_dev, n_stikkprøve)\n",
    "    snitt_bæreevne[i] = np.mean(utvalg)\n",
    "    std_bæreevne[i] = np.std(utvalg, ddof=1)\n",
    "\n",
    "\n",
    "stikkprøve_nr = np.arange(1, stikkprøver + 1)\n",
    "\n",
    "plt.scatter(stikkprøve_nr, snitt_bæreevne, marker='o', color='b')\n",
    "plt.ylim(10,50); plt.xlabel(\"Stikkprøve nr.\"); plt.ylabel(\"Gjennomsnittlig bæreevne\")\n",
    "plt.axhline(y=cu_mean, color='r', linestyle='--')\n",
    "plt.axhline(y=cl_mean, color='r', linestyle='--')\n",
    "plt.grid()\n",
    "plt.show()\n",
    "\n",
    "plt.scatter(stikkprøve_nr, std_bæreevne, marker='o', color='b')\n",
    "plt.ylim(0,8); plt.xlabel(\"Stikkprøve nr.\"); plt.ylabel(\"Empirisk standardavvik bæreevne\")\n",
    "plt.axhline(y=cu_std, color='r', linestyle='--')\n",
    "plt.axhline(y=cl_std, color='r', linestyle='--')\n",
    "plt.grid()\n",
    "plt.show()"
   ]
  }
 ],
 "metadata": {
  "kernelspec": {
   "display_name": "Python 3 (ipykernel)",
   "language": "python",
   "name": "python3"
  },
  "language_info": {
   "codemirror_mode": {
    "name": "ipython",
    "version": 3
   },
   "file_extension": ".py",
   "mimetype": "text/x-python",
   "name": "python",
   "nbconvert_exporter": "python",
   "pygments_lexer": "ipython3",
   "version": "3.11.5"
  }
 },
 "nbformat": 4,
 "nbformat_minor": 5
}
