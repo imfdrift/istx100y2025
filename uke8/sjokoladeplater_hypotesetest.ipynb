{
 "cells": [
  {
   "cell_type": "markdown",
   "metadata": {},
   "source": [
    "# Hypotesetest på sjokoladeplater\n",
    "\n",
    "Vi tenker oss at en sjokoladefabrikk har kjøpt inn en ny maskin for å lage 200-grams sjokoladeplater. Vi antar at vekten til en tilfeldig valgt plate er normalfordelt, her representert med den stokastiske variabelen $X$.  Forventningsverdien er $\\mu$, og hvis alt er som det skal i produksjonen, så er $\\mu = 200$ gram."
   ]
  },
  {
   "cell_type": "markdown",
   "metadata": {},
   "source": [
    "## Læringsmål: Bruke observasjoner fra et tilfeldig utvalg til utføre hypotesetester på forventningsverdien $\\mu$ i normalfordelingen\n",
    "\n",
    "### Delmål\n",
    "1. Høyresidig hypotesetest for forventningsverdien $\\mu$ i normalfordelingen når standardavviket $\\sigma$ er kjent ($z$-test)\n",
    "2. Testobservator, signifikansnivå og forkastningsregel\n",
    "3. Teststyrke"
   ]
  },
  {
   "cell_type": "code",
   "execution_count": null,
   "metadata": {
    "tags": []
   },
   "outputs": [],
   "source": [
    "from scipy import stats # statistikk-modulen i scipy-pakken\n",
    "import matplotlib.pyplot as plt # plotting\n",
    "import numpy as np"
   ]
  },
  {
   "cell_type": "markdown",
   "metadata": {},
   "source": [
    "## Høyresidig test for $\\mu$ i normalfordelingen når standardavviket er kjent \n",
    "\n",
    "### Steg 1: Sette opp hypoteser og velge en testobservator\n",
    "\n",
    "I dette avsnittet antar vi at standardavviket til vekten til en sjokolaplate $X$ er å kjent, og lik $\\sigma =3$ gram. Sammen med produksjonssjef Nils skal vi bruke $n = 5$ observasjoner av tilfeldig valgte sjokoladeplater for å teste om sjokoladene veier for mye! Vi skal altså teste\n",
    "\n",
    "$H_0: \\mu = 200$ mot $H_1: \\mu > 200$\n",
    "\n",
    "ved å ta utgangspunkt i et tilfeldig utvalg $X_1$, ..., $X_5$, der $X_i \\sim N(\\mu, 3)$ for $i = 1, \\ldots, 5$.\n",
    "\n",
    "Som utgangspunkt for å sette opp en hypotesetest starter vi med estimatoren $$\\bar{X} = \\frac{1}{5}\\sum_{i=1}^5 X_i$$ \n",
    "Dersom $H_0$ er sann så er $\\bar{X}$ normalfordelt med forventning $\\mu = 200$ og standardavvik $\\tfrac{3}{\\sqrt{5}}$, som illustrert i figuren under. Siden vi kjenner fordelingen til $\\bar{X}$ under nullhypotesen, så kan vi bruke $\\bar{X}$ som en *testobservator*."
   ]
  },
  {
   "cell_type": "code",
   "execution_count": null,
   "metadata": {},
   "outputs": [],
   "source": [
    "n = 5       # størrelsen på utvalget\n",
    "mu0 = 200   # forventningsverdien til X-strek under H0\n",
    "sigma = 3/np.sqrt(n)  # standardavviket til X-strk\n",
    "\n",
    "xval = np.linspace(mu0 - 4*sigma, mu0 + 4*sigma, 100)  \n",
    "fx = stats.norm.pdf(xval, mu0, sigma)                   \n",
    "plt.plot(xval, fx)\n",
    "plt.grid(); plt.ylabel(\"f(x)\"); plt.xlabel(\"x\")\n",
    "plt.show()"
   ]
  },
  {
   "cell_type": "markdown",
   "metadata": {},
   "source": [
    "### Steg 2: Signifikansnivå og forkastningsregel\n",
    "\n",
    "Dersom alternativhypotesen er sann ($H_1: \\mu > 200$) så vil *høye* verdier av gjennomsnittsvekt tilsi at vi skal forkaste nullhypotesen til fordel for alternativhypotesen. Vi gjør altså en *høyresidig* hypotesetest. \n",
    "\n",
    "Men hva er en *høy nok* gjennomsnittsvekt? Det er jo ganske mye naturlig variasjon forbundet med utvalget til Nils på fem sjokoladeplater, og Nils vil være skikkelig overbevist om at $H_1$ er sann før han går i gang med å reparere sjokolademaskinen. \n",
    "\n",
    "Vi velger oss et signifikansnivå $\\alpha$, og deretter velger vi oss en forkastningsregel slik at sannsynligheten for å forkaste $H_0$ dersom $H_0$ er sann er lik $\\alpha$. \n",
    "\n",
    "I standard normalfordelingen vet vi at $P(Z > z_{\\alpha}) = \\alpha$, og dermed er også\n",
    "\n",
    "$$P\\left( \\frac{\\bar{X} - 200}{3/\\sqrt{5}} > \\frac{z_{\\alpha} - 200}{3/\\sqrt{5}} \\right) = \\alpha$$\n",
    "\n",
    "under antagelsen om at $\\mu = 200$. Dette tilsier at vi kan forkaste $H_0$ til fordel for $H_1$ dersom vi observerer en gjennomsnittsvekt over $k = 200 + z_{\\alpha}\\cdot \\tfrac{3}{\\sqrt{5}}$.\n",
    "\n",
    "I stedet for å se på gjennomsnittsvekt direkte, kan vi også definere testobservatoren \n",
    "\n",
    "$$Z = \\frac{\\bar{X} - 200}{3/\\sqrt{5}}$$\n",
    "\n",
    "som vil være standard normalfordelt dersom $H_0$ er sann. Da kan vi med en gang si at vi ved signifikansnivå $\\alpha$ skal forkaste $H_0$ til fordel for $H_1$ dersom vi observerer $z > z_{\\alpha}$. \n",
    "\n",
    "Fordelingen til $\\bar{X}$ og $Z$ under $H_0$, og de tilhørende forkastningsområdene ved signifikansnivå $\\alpha = 0.05$ er vist i figurene under. Det fargede området under grafen har areal $\\alpha = 0.05$ i begge figurene. Forkastningsregelen er $\\bar{x} > 202.2$ gram eller (tilsvarende) $z > 1.645$. "
   ]
  },
  {
   "cell_type": "code",
   "execution_count": null,
   "metadata": {},
   "outputs": [],
   "source": [
    "# Plotter kritisk verdi og areal i høyre hale \n",
    "\n",
    "alpha = 0.05; z_alpha = stats.norm.ppf(1 - alpha,0,1)\n",
    "\n",
    "xval = np.linspace(mu0 - 4*sigma, mu0 + 4*sigma, 100) ; fx = stats.norm.pdf(xval, mu0, sigma)   \n",
    "\n",
    "k = mu0 + z_alpha*sigma\n",
    "section = np.linspace(k,mu0 + 4*sigma, 100, 100)\n",
    "\n",
    "plt.subplot(2,1, 1)\n",
    "plt.plot(xval, fx); plt.fill_between(section,stats.norm.pdf(section, mu0, sigma))\n",
    "plt.ylabel(\"f(x-bar)\"); plt.xlabel(\"x-bar\")\n",
    "plt.show()\n",
    "\n",
    "zval = np.linspace(-4, 4, 100); fz = stats.norm.pdf(zval, 0, 1)\n",
    "section_z = np.linspace(z_alpha,4, 100, 100)\n",
    "\n",
    "plt.subplot(2,1, 2)\n",
    "plt.plot(zval, fz); plt.fill_between(section_z,stats.norm.pdf(section_z, 0, 1))\n",
    "plt.ylabel(\"f(z)\"); plt.xlabel(\"z\")\n",
    "plt.show()"
   ]
  },
  {
   "cell_type": "markdown",
   "metadata": {},
   "source": [
    "### Steg 4: Observasjoner og konklusjon\n",
    "\n",
    "Nils har trukket tilfeldig fem sjokoladeplater og har registrert vekten til disse:"
   ]
  },
  {
   "cell_type": "code",
   "execution_count": null,
   "metadata": {},
   "outputs": [],
   "source": [
    "x = [200.8, 201.9, 202.6, 199.4, 202.3]\n",
    "np.mean(x)"
   ]
  },
  {
   "cell_type": "markdown",
   "metadata": {},
   "source": [
    "Gjennomsnittsvekten er på 201.4 gram, og dermed har vi ikke grunnlag for å forkaste $H_0$ ved signifikansnivå $\\alpha = 0.05$. \n",
    "\n",
    "På samme måte kunne vi regnet ut verdien til testobservatoren $Z$:"
   ]
  },
  {
   "cell_type": "code",
   "execution_count": null,
   "metadata": {},
   "outputs": [],
   "source": [
    "z = (np.mean(x) - 200)/sigma\n",
    "z"
   ]
  },
  {
   "cell_type": "markdown",
   "metadata": {},
   "source": [
    "Siden $z = 1.043$ er et lavere tall enn $z_{\\alpha} = 1.645$ så forkaster vi ikke $H_0$. De to fremgangsmåtene våre ga nødvendigvis samme resultat. "
   ]
  },
  {
   "cell_type": "markdown",
   "metadata": {},
   "source": [
    "## Hvor god er hypotesetesten?\n",
    "\n",
    "Når vi utfører hypotesetester er vi opptatt av sannsynligheten for å gjøre en type-1 feil (forkaste $H_0$ dersom $H_0$ er sann) og testens styrke (sannsynligheten for å forkaste $H_0$ dersom $H_1$ er sann). Signifikansnivået vi setter avgjør sannsynligheten for å gjøre en type-1 feil. Teststyrken er derimot avhengig av parameterverdien under $H_1$, signifikansnivået (forkastningsregelen), og størrelsen på utvalget. \n",
    "\n",
    "La oss se på utvalget til Nils igjen, og la oss anta at alternativhypotesen faktisk er sann, og at $\\mu = 202$ gram. Hva er egentlig sjansen (teststyrken) for at Nils klarer å avdekke dette med sine $n = 5$ observasjoner?\n",
    "\n",
    "Dersom $\\mu = 202$ gram, så er $\\bar{X} \\sim N(202, 3/\\sqrt{5})$. I avsnittet over bestemte vi at Nils skal forkaste $H_0$ til fordel for $H_1$ dersom han observerer $\\bar{x} > 202.2$ gram. Hva er sjansen for at dette inntreffer nå som vi vet at  $\\mu = 202$ gram?"
   ]
  },
  {
   "cell_type": "code",
   "execution_count": null,
   "metadata": {
    "tags": []
   },
   "outputs": [],
   "source": [
    "n = 5\n",
    "mu0 = 200 # under H0\n",
    "mu = 202  # under H1\n",
    "sigma = 3/np.sqrt(n)\n",
    "alpha = 0.05\n",
    "z_alpha = stats.norm.ppf(1 - alpha,0,1)\n",
    "k = mu0 + z_alpha*sigma\n",
    "1 - stats.norm.cdf(k, mu, sigma) # P(X-bar >x_alpha)"
   ]
  },
  {
   "cell_type": "markdown",
   "metadata": {},
   "source": [
    "Teststyrken er altså omtrent 0.44, så det er en $44\\%$ sjanse for at Nils klarer å avdekke akkurat dette avviket fra $H_0$. Ved å justere på tallene i koden over kan du regne ut teststyrken for ulike verdier av $\\mu$ under $H_1$, for ulike signifikansnivå, og for ulik størrelse på utvalget. \n",
    "\n",
    "Vi kan også plotte teststyrken som en funksjon av utvalgsstørrelsen $n$:"
   ]
  },
  {
   "cell_type": "code",
   "execution_count": null,
   "metadata": {
    "tags": []
   },
   "outputs": [],
   "source": [
    "nverdier=nverdier=np.array([5,10,25,50,75])\n",
    "mu0 = 200 # under H0\n",
    "mu = 201  # under H1\n",
    "sigmaverdier = 3/np.sqrt(nverdier)\n",
    "\n",
    "alpha = 0.1\n",
    "z_alpha = stats.norm.ppf(1 - alpha,0,1)\n",
    "\n",
    "kverdier = mu0 + z_alpha*sigmaverdier\n",
    "\n",
    "teststyrke = 1 - stats.norm.cdf(kverdier, mu, sigmaverdier)\n",
    "\n",
    "plt.plot(nverdier, teststyrke,'.-')\n",
    "plt.ylabel(\"Teststyrke\"); plt.xlabel(\"antall observasjoner n\")\n",
    "plt.show()"
   ]
  },
  {
   "cell_type": "code",
   "execution_count": null,
   "metadata": {
    "tags": []
   },
   "outputs": [],
   "source": [
    "print(nverdier)"
   ]
  },
  {
   "cell_type": "code",
   "execution_count": null,
   "metadata": {
    "tags": []
   },
   "outputs": [],
   "source": [
    "print(teststyrke)"
   ]
  }
 ],
 "metadata": {
  "kernelspec": {
   "display_name": "Python 3 (ipykernel)",
   "language": "python",
   "name": "python3"
  },
  "language_info": {
   "codemirror_mode": {
    "name": "ipython",
    "version": 3
   },
   "file_extension": ".py",
   "mimetype": "text/x-python",
   "name": "python",
   "nbconvert_exporter": "python",
   "pygments_lexer": "ipython3",
   "version": "3.11.5"
  }
 },
 "nbformat": 4,
 "nbformat_minor": 4
}
