{
 "cells": [
  {
   "cell_type": "markdown",
   "metadata": {},
   "source": [
    "# Poissonfordeling"
   ]
  },
  {
   "cell_type": "markdown",
   "metadata": {},
   "source": [
    "La $X$ være en stokastisk variabel slik at $X \\sim \\text{poisson}(\\lambda t)$. Vi sier at $X$ er poissonfordelt med rate $\\lambda$. Den stokastiske variabelen representerer antall suksesser i løpet av et tidsintervall av lengde $t$ (eller i et område av størrelse $t$). \n",
    "\n",
    "I denne notatboken illustres hvordan du kan regne ut sannsynligheter for $X$, og plotte sannsynlighetsfordelingen til $X$, ved bruk av python-kode."
   ]
  },
  {
   "cell_type": "code",
   "execution_count": null,
   "metadata": {
    "tags": []
   },
   "outputs": [],
   "source": [
    "from scipy import stats # statistikk-modulen i scipy-pakken\n",
    "import matplotlib.pyplot as plt # plotting"
   ]
  },
  {
   "cell_type": "markdown",
   "metadata": {},
   "source": [
    "## Punktsannsynligheter\n",
    "\n",
    "Vi lar $X$ være poissonfordelt med forventning $\\mu = \\lambda t$. For å regne ut sannsynligheten $P(X = x)$ bruker vi funksjonen `stats.poisson.pmf(x,mu)` fra stats-modulen i scipy-pakken, der \"pmf\" er en forkortelse for \"probability mass function\" (punktsannsynlighet) og \"mu\" betegner det greske symbolet for forventningsverdi $\\mu$. \n",
    "\n",
    "Punktsannsynligheter for alle mulige verdier av $X$ kan illustreres i et sannsynlighetshistogram der høyden (og arealet) på en stolpe er punktsannsynligheten."
   ]
  },
  {
   "cell_type": "code",
   "execution_count": null,
   "metadata": {
    "tags": []
   },
   "outputs": [],
   "source": [
    "mu = 5.4 # forventningsverdi\n",
    "x = 3     # det tallet vi vil regne på sannsynlighet for\n",
    "stats.poisson.pmf(x,mu)  # P(X = x)"
   ]
  },
  {
   "cell_type": "markdown",
   "metadata": {},
   "source": [
    "### Plotte sannsynlighetshistogram"
   ]
  },
  {
   "cell_type": "code",
   "execution_count": null,
   "metadata": {
    "tags": []
   },
   "outputs": [],
   "source": [
    "plt.bar(range(0,20), stats.poisson.pmf(range(0, 20), mu))\n",
    "plt.grid(); plt.ylabel(\"P(X = x)\"); plt.xlabel(\"x\")\n",
    "plt.show()"
   ]
  },
  {
   "cell_type": "markdown",
   "metadata": {},
   "source": [
    "## Kumulative sannsynligheter\n",
    "\n",
    "Vi lar $X$ være poissonfordelt med forventning $\\mu = \\lambda t$. For å regne ut den kumulative sannsynligheten $P(X \\leq x)$ bruker vi funksjonen `stats.poisson.cdf(x,mu)` fra stats-modulen i scipy-pakken, der \"cdf\" er en forkortelse for \"cumulative distribution function\" (kumulativ fordelingsfunksjon).\n",
    "\n",
    "Når vi har en måte for å regne ut kumulative sannsynligheter kan vi også regne ut andre sannsynligheter slik som $P(X < x)$ (streng ulikhet), $P(a < X \\leq b)$, osv. \n",
    "\n",
    "Slike sannsynligheter kan forståes som arealet av flere stolper i et sannsynlighetshistogram."
   ]
  },
  {
   "cell_type": "code",
   "execution_count": null,
   "metadata": {
    "tags": []
   },
   "outputs": [],
   "source": [
    "mu = 5.4 # forventningsverdi\n",
    "x = 3    # det tallet vi vil regne på sannsynlighet for\n",
    "stats.poisson.cdf(x,mu)  # P(X ≤ x)"
   ]
  },
  {
   "cell_type": "code",
   "execution_count": null,
   "metadata": {
    "tags": []
   },
   "outputs": [],
   "source": [
    "stats.poisson.cdf(x-1,mu) # P(X < x)"
   ]
  },
  {
   "cell_type": "code",
   "execution_count": null,
   "metadata": {
    "tags": []
   },
   "outputs": [],
   "source": [
    "stats.poisson.cdf(5,mu) - stats.poisson.cdf(3,mu)  # P(3 < X ≤ 5)"
   ]
  },
  {
   "cell_type": "markdown",
   "metadata": {},
   "source": [
    "### Plotte kumulative sannsynligheter"
   ]
  },
  {
   "cell_type": "code",
   "execution_count": null,
   "metadata": {
    "tags": []
   },
   "outputs": [],
   "source": [
    "plt.step(range(0,20), stats.poisson.cdf(range(0, 20), mu))\n",
    "plt.grid(); plt.ylabel(\"P(X ≤ x)\"); plt.xlabel(\"x\")\n",
    "plt.show()"
   ]
  }
 ],
 "metadata": {
  "kernelspec": {
   "display_name": "Python 3 (ipykernel)",
   "language": "python",
   "name": "python3"
  },
  "language_info": {
   "codemirror_mode": {
    "name": "ipython",
    "version": 3
   },
   "file_extension": ".py",
   "mimetype": "text/x-python",
   "name": "python",
   "nbconvert_exporter": "python",
   "pygments_lexer": "ipython3",
   "version": "3.11.5"
  }
 },
 "nbformat": 4,
 "nbformat_minor": 4
}
