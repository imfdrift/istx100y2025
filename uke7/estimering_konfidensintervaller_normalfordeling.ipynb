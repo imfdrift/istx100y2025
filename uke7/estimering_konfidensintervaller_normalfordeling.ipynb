{
 "cells": [
  {
   "cell_type": "markdown",
   "metadata": {},
   "source": [
    "# Estimering og konfidensintervaller for normalfordelingen"
   ]
  },
  {
   "cell_type": "markdown",
   "metadata": {},
   "source": [
    "## Læringsmål: Bruke observasjoner fra et tilfeldig utvalg til å estimere forventningsverdien $\\mu$ og finne et konfidensintervall for $\\mu$\n",
    "\n",
    "### Delmål\n",
    "1. Estimator og tall-estimat for forventningsverdien $\\mu$ i normalfordelingen\n",
    "2. Konfidensintervall for forventningsverdien $\\mu$ i normalfordelingen når standardavviket $\\sigma$ er kjent\n",
    "3. Konfidensintervall for forventningsverdien $\\mu$ i normalfordelingen når standardavviket $\\sigma$ er ukjent ($t$-fordeling)\n",
    "4. Utvalgstørrelse og usikkerhet (bredde på intervallet)"
   ]
  },
  {
   "cell_type": "code",
   "execution_count": null,
   "metadata": {
    "tags": []
   },
   "outputs": [],
   "source": [
    "from scipy import stats # statistikk-modulen i scipy-pakken\n",
    "import matplotlib.pyplot as plt # plotting\n",
    "import numpy as np"
   ]
  },
  {
   "cell_type": "markdown",
   "metadata": {},
   "source": [
    "## Estimere forventningsverdi i normalfordelingen "
   ]
  },
  {
   "cell_type": "markdown",
   "metadata": {},
   "source": [
    "I koden under simulerer vi observasjoner av $n=10$ uavhengige standard normalfordelte variabler ($\\mu = 0$ og $\\sigma = 1$). For å estimere forventningsverdien til et slikt tilfeldig utvalg $X_1$, $X_2$, ..., $X_{10}$ regner vi ut gjennomsnittet av de ti observasjonene $x_1$, $x_2$, ..., $x_{10}$. Kjør koden flere ganger for å se hvordan gjennomsnittet endrer seg for hvert sett med observasjoner, og se på hvordan observasjonene fordeler seg langs tallinja!"
   ]
  },
  {
   "cell_type": "code",
   "execution_count": null,
   "metadata": {
    "tags": []
   },
   "outputs": [],
   "source": [
    "# Setter parameterverdier og utvalgstørrelse\n",
    "mu = 0   # NB: vi later som om denne størrelsen er ukjent for oss!\n",
    "sigma = 1\n",
    "n = 10"
   ]
  },
  {
   "cell_type": "code",
   "execution_count": null,
   "metadata": {
    "tags": []
   },
   "outputs": [],
   "source": [
    "observasjoner = np.random.normal(mu, sigma, n)\n",
    "mean_value = np.mean(observasjoner)\n",
    "plt.figure(figsize=(6,1))\n",
    "plt.scatter(x = observasjoner, y = np.zeros(n), marker='x')\n",
    "plt.yticks([])\n",
    "plt.xlim([-5, 5])\n",
    "plt.axvline(x=mean_value, color='red', linestyle='--', label=f'Gjennomsnitt ({mean_value:.2f})')\n",
    "plt.legend()\n",
    "plt.show()"
   ]
  },
  {
   "cell_type": "markdown",
   "metadata": {},
   "source": [
    "Ved å kjøre koden over flere ganger ser vi at gjennomsnittet av de ti observasjonene sjelden treffer akkurat på forventningsverdien $\\mu = 0$. Dette er fordi utvalget består av ti *stokastiske* variabler, og dermed vil gjennomsnittet over utvalget $\\bar{X} = \\tfrac{1}{10}\\sum_{i=1}^{10}X_i$ også være en *stokastisk* variabel. I koden under gjør vi 10 observasjoner veldig mange ganger, og ser hvordan fordelingen til gjennomsnittet $\\bar{X}$ ser ut!"
   ]
  },
  {
   "cell_type": "code",
   "execution_count": null,
   "metadata": {
    "tags": []
   },
   "outputs": [],
   "source": [
    "n_sim = 1000 # antall simuleringsforsøk vi skal gjøre\n",
    "gjsnitt =  np.zeros(n_sim) # initialiserer vektor der hvert gjennomsnitt skal lagres\n",
    "for i in range(n_sim):\n",
    "    observasjoner = np.random.normal(mu, sigma, n);\n",
    "    gjsnitt[i] = np.mean(observasjoner)  \n",
    "\n",
    "plt.hist(gjsnitt, edgecolor='black')\n",
    "plt.xlim(-2,2)\n",
    "plt.show()"
   ]
  },
  {
   "cell_type": "markdown",
   "metadata": {},
   "source": [
    "Fra histogrammet får vi et tydelig inntrykk av at estimatoren $\\bar{X}$ er en normalfordelt størrelse med forventning $E(\\bar{X}) = \\mu = 0$. Det er denne egenskapen som gjør at vi sier at estimatoren $\\bar{X}$ er *forventningsrett*. Standardavviket til estimatoren er $\\tfrac{\\sigma}{\\sqrt{n}}$, som i dette tilfellet er $1/\\sqrt{10} \\approx 0.32$. \n",
    "\n",
    "Merk at usikkerheten i estimatoren avhenger av hvor mange observasjoner vi gjør! \n",
    "\n",
    "Dersom vi hadde sett på et tilfeldig utvalg bestående av $n = 100$ i stedet for $n = 10$ observasjoner ville vi fått en mindre varierende estimator for forventningsverdien $\\mu$. Dette er illustrert i koden under."
   ]
  },
  {
   "cell_type": "code",
   "execution_count": null,
   "metadata": {
    "tags": []
   },
   "outputs": [],
   "source": [
    "n_sim = 1000 # antall simuleringsforsøk vi skal gjøre\n",
    "gjsnitt =  np.zeros(n_sim) # initialiserer vektor der hvert gjennomsnitt skal lagres\n",
    "for i in range(n_sim):\n",
    "    observasjoner = np.random.normal(mu, sigma, 100);  # OBS: nå 100 observasjoner\n",
    "    gjsnitt[i] = np.mean(observasjoner)  \n",
    "    \n",
    "plt.hist(gjsnitt, edgecolor='black', color = 'darkgreen')\n",
    "plt.xlim(-2,2)\n",
    "plt.show()"
   ]
  },
  {
   "cell_type": "markdown",
   "metadata": {},
   "source": [
    "## Konfidensintervall for forventningsverdien i normalfordelingen"
   ]
  },
  {
   "cell_type": "markdown",
   "metadata": {},
   "source": [
    "Nå som vi vet at estimatet $\\bar{x}$ for forventningsverdien $\\mu$ er forbundet med usikkerhet, og at denne usikkerhet er direkte knyttet til både standardavviket til variablene $X_1$, $X_2$, ..., $X_n$ i det tilfeldige utvalget, samt antall observasjoner $n$, er det naturlig at estimatet $\\bar{x}$ suppleres med et mål på usikkerhet. Vi skal dermed lage oss et *konfidensintervall*. I stedet for ett enkelt estimat ($\\bar{x}$) for $\\mu$ gir et konfidensintervall et *estimat* på et intervall som med stor sannsynlighet dekker parameterverdien $\\mu$. "
   ]
  },
  {
   "cell_type": "markdown",
   "metadata": {},
   "source": [
    "### Kjent standardavvik\n",
    "Dersom standardavviket $\\sigma$ til hver variabel $X_i$ i utvalget er *kjent*, så finner vi et $(1-\\alpha)\\cdot 100 \\%$ konfidensintervall ved \n",
    "\n",
    "$$\\left[\\bar{X} - z_{\\alpha/2} \\frac{\\sigma}{\\sqrt{n}}, \\, \\bar{X} + z_{\\alpha/2} \\frac{\\sigma}{\\sqrt{n}}\\right]$$\n",
    "\n",
    "der $z_{\\alpha/2}$ er en kritisk verdi i standard normalfordelingen. Ofte ønsker vi et $95\\%$ konfidensintervall ($z_{\\alpha/2} = z_{0.025} \\approx 1.960$) eller et $90\\%$ konfidensintervall ($z_{\\alpha/2} = z_{0.05} \\approx 1.645$). Merk at øvre og nedre grense i intervallet er stokastisk (fordi $\\bar{X}$ er en stokastisk variabel). Med et $95\\%$ konfidensintervall for $\\mu$ er det $95\\%$ sjanse for at nedre grense av intervallet er lavere enn $\\mu$ samtidig som øvre grense av intervallet er høyere enn $\\mu$, med andre ord $95\\%$ sjanse for at intervallet dekker den ukjente størrelsen $\\mu$. Det innebærer at det er en $5\\%$ sjanse for at intervallet ikke dekker den ukjente størrelsen $\\mu$ i det hele tatt. \n",
    "\n",
    "Når vi har regnet ut et estimat $\\bar{x}$ basert på observasjoner $x_1, x_2, \\ldots, x_n$ kan vi også regne ut et estimat på intervallet over, ved \n",
    "\n",
    "$$\\left[\\bar{x} - z_{\\alpha/2} \\frac{\\sigma}{\\sqrt{n}}, \\, \\bar{x} + z_{\\alpha/2} \\frac{\\sigma}{\\sqrt{n}}\\right]$$"
   ]
  },
  {
   "cell_type": "markdown",
   "metadata": {},
   "source": [
    "I koden under regner vi et ut et $95\\%$ konfidensintervall (forkortet KI) basert på 10 observasjoner fra en standard normalfordeling. Ved å kjøre koden flere ganger kan du legge merke til hvordan intervallet endrer seg fra kjøring til kjøring! Grensene i intervallet inneholder jo estimatet $\\bar{x}$ som vi vet at er en observasjon av en *stokastisk* variabel $\\bar{X}$!\n",
    "\n",
    "Klarer du å finne en simulering der intervallet ikke dekker $\\mu = 0$?"
   ]
  },
  {
   "cell_type": "code",
   "execution_count": null,
   "metadata": {
    "tags": []
   },
   "outputs": [],
   "source": [
    "# Setter parameterverdier og utvalgstørrelse\n",
    "mu = 0   # NB: vi later som om denne størrelsen er ukjent for oss!\n",
    "sigma = 1\n",
    "n = 10"
   ]
  },
  {
   "cell_type": "code",
   "execution_count": null,
   "metadata": {
    "tags": []
   },
   "outputs": [],
   "source": [
    "observasjoner = np.random.normal(mu, sigma, n)\n",
    "plt.figure(figsize=(6,1))\n",
    "plt.scatter(x = observasjoner, y = np.zeros(n), marker='x')\n",
    "plt.yticks([])\n",
    "plt.xlim([-7, 5])\n",
    "mean_value = np.mean(observasjoner)\n",
    "nedre_grense = np.mean(observasjoner) - stats.norm.ppf(1-0.025)*sigma/np.sqrt(n)\n",
    "ovre_grense = np.mean(observasjoner) + stats.norm.ppf(1-0.025)*sigma/np.sqrt(n)\n",
    "plt.axvline(x=mean_value, color='red', linestyle='--', label=f'Gjennomsnitt ({mean_value:.2f})')\n",
    "plt.axvline(x=nedre_grense, color='green', linestyle='--', label=f'Nedre KI ({nedre_grense:.2f})')\n",
    "plt.axvline(x=ovre_grense, color='green', linestyle='--', label=f'Øvre KI ({ovre_grense:.2f})')\n",
    "plt.legend()\n",
    "plt.show()"
   ]
  },
  {
   "cell_type": "markdown",
   "metadata": {},
   "source": [
    "Ved å kjøre koden over flere ganger, ser vi at det observerte intervallet endrer seg fra gang til gang, men veldig ofte dekker intervallet den faktiske parameterverdien $\\mu$ som vi forsøker å estimere i dette eksempelet (intervallet inneholder den faktiske parameterverdien). Hvis vi nå setter opp en simulering der vi i hver iterasjon regner ut et $95\\%$ konfidensintervall, finner vi at vi 'bommer' på parameterverdien $\\mu$ noen få ganger. I lengden vil vi bomme akkurat $5\\%$ av gangene. "
   ]
  },
  {
   "cell_type": "code",
   "execution_count": null,
   "metadata": {
    "tags": []
   },
   "outputs": [],
   "source": [
    "n_sim = 100 # antall simuleringsforsøk vi skal gjøre\n",
    "gjsnitt =  np.zeros(n_sim) # initialiserer vektor der hvert gjennomsnitt skal lagres\n",
    "for i in range(n_sim):\n",
    "    observasjoner = np.random.normal(mu, sigma, 10);\n",
    "    gjsnitt[i] = np.mean(observasjoner)  \n",
    "    \n",
    "nedre_grenser = gjsnitt - stats.norm.ppf(1-0.025)*sigma/np.sqrt(n)\n",
    "ovre_grenser = gjsnitt + stats.norm.ppf(1-0.025)*sigma/np.sqrt(n)\n",
    "    \n",
    "plt.figure(figsize=(8,8))\n",
    "plt.hlines(np.arange(n_sim),nedre_grenser,ovre_grenser) # horisontale linjer representerer 95% konfidensintervall for hver simulering\n",
    "plt.vlines(mu,0,n_sim-1,'red')   # Rød vertikal stripe representerer \"ukjent\" størrelse mu\n",
    "plt.show()"
   ]
  },
  {
   "cell_type": "markdown",
   "metadata": {},
   "source": [
    "### Ukjent standardavvik\n",
    "Dersom standardavviket $\\sigma$ til hver variabel $X_i$ i utvalget er *ukjent*, så finner vi et $(1-\\alpha)\\cdot 100 \\%$ konfidensintervall ved \n",
    "\n",
    "$$\\left[\\bar{x} - t_{\\alpha/2, n-1} \\frac{s}{\\sqrt{n}}, \\, \\bar{x} + t_{\\alpha/2, n-1} \\frac{s}{\\sqrt{n}}\\right]$$\n",
    "\n",
    "der $t_{\\alpha/2, n-1}$ er en kritisk verdi i $t$-fordelingen med parameter $\\nu = n-1$, og $s$ er estimert standardavvik $$s = \\sqrt{\\frac{1}{n-1}\\sum_{i=1}^n (x_i - \\bar{x})^2}.$$\n",
    "\n",
    "I koden under repeterer vi samme type simuleringsforsøk som tidligere, men nå later vi som om $\\sigma$ også er ukjent. "
   ]
  },
  {
   "cell_type": "code",
   "execution_count": null,
   "metadata": {
    "tags": []
   },
   "outputs": [],
   "source": [
    "observasjoner = np.random.normal(mu, sigma, n)\n",
    "plt.figure(figsize=(6,1))\n",
    "plt.scatter(x = observasjoner, y = np.zeros(n), marker='x')\n",
    "plt.yticks([])\n",
    "plt.xlim([-7, 5])\n",
    "mean_value = np.mean(observasjoner)\n",
    "s = np.std(observasjoner, ddof = 1) # snarvei for å regne ut standardavvik\n",
    "nedre_grense = np.mean(observasjoner) - stats.t.ppf(1-0.025,n-1)*s/np.sqrt(n)\n",
    "ovre_grense = np.mean(observasjoner) + stats.t.ppf(1-0.025,n-1)*s/np.sqrt(n)\n",
    "plt.axvline(x=mean_value, color='red', linestyle='--', label=f'Gjennomsnitt ({mean_value:.2f})')\n",
    "plt.axvline(x=nedre_grense, color='green', linestyle='--', label=f'Nedre KI ({nedre_grense:.2f})')\n",
    "plt.axvline(x=ovre_grense, color='green', linestyle='--', label=f'Øvre KI ({ovre_grense:.2f})')\n",
    "plt.legend()\n",
    "plt.show()"
   ]
  },
  {
   "cell_type": "markdown",
   "metadata": {},
   "source": [
    "## Bredden på intervallet\n",
    "\n",
    "### Eksempel\n",
    "En kjemistudent har fått i oppgave å estimere konsentrasjonen av koffein i Coca Cola. Han undersøker $n$ prøver, hver med nøyaktig 1.0 dl Coca Cola, og for hver prøve måler han antall mg koffein i prøven.\n",
    "\n",
    "La $X_i$ betegne målt koffeininnhold, i mg, for prøve nr. $i = 1, 2, \\ldots, n$. \n",
    "Anta at $X_1,\\ldots, X_n$ er uavhengige og normalfordelte med (ukjent) forventning $\\mu$ og standardavvik $\\sigma$. Forventningsverdien $\\mu$ representerer her det sanne koffein-innholdet i hver Coca Cola-prøve, mens standardavviket $\\sigma$ representerer unøyaktigheten i målemetoden til studenten."
   ]
  },
  {
   "cell_type": "code",
   "execution_count": null,
   "metadata": {
    "tags": []
   },
   "outputs": [],
   "source": [
    "# Tall vi vil bruke for å regne estimat og konfidensintervall for eksempelet\n",
    "\n",
    "n = 12  # antall målinger\n",
    "xbar = 9.2  # gjennomsnitt av målingene\n",
    "sigma = 0.14 # det kjente standardavviket\n",
    "alpha = 0.05 # (1-\\alpha)*100% konfidensintervall\n",
    "zalphahalve = stats.norm.ppf(1-alpha/2) # kritisk verdi i standard normalfordeling "
   ]
  },
  {
   "cell_type": "code",
   "execution_count": null,
   "metadata": {
    "tags": []
   },
   "outputs": [],
   "source": [
    "# konfidensintervall:\n",
    "nedre_grense = xbar - zalphahalve*sigma/np.sqrt(n)\n",
    "ovre_grense =  xbar + zalphahalve*sigma/np.sqrt(n)\n",
    "print([nedre_grense, ovre_grense])"
   ]
  },
  {
   "cell_type": "code",
   "execution_count": null,
   "metadata": {
    "tags": []
   },
   "outputs": [],
   "source": [
    "# bredden på intervallet\n",
    "def breddefunc(n):\n",
    "  return(2*zalphahalve*sigma/np.sqrt(n))\n",
    "\n",
    "nverdier=np.arange(1,31)\n",
    "plt.plot(nverdier, breddefunc(nverdier), '.-')\n",
    "plt.xlabel('n')\n",
    "plt.ylabel('bredde')\n",
    "plt.grid()\n",
    "plt.show()"
   ]
  },
  {
   "cell_type": "markdown",
   "metadata": {},
   "source": [
    "La oss si at vi er ute etter et antall målinger $n$ slik at bredden på intervallet ikke overskrider 0.12. Se på figuren over: er det 20 eller 21 som gir bredde på 0.12? Undersøker vi litt nærmere ser vi at vi må velge $n=21$ for å være sikret bredde som ikke overskrider 0.12."
   ]
  },
  {
   "cell_type": "code",
   "execution_count": null,
   "metadata": {
    "tags": []
   },
   "outputs": [],
   "source": [
    "plt.plot(nverdier, breddefunc(nverdier), '.-')\n",
    "plt.xlim(18,22)\n",
    "plt.ylim(0.13,0.11)\n",
    "plt.xlabel('n')\n",
    "plt.ylabel('bredde')\n",
    "plt.hlines(y=0.12, xmin=18, xmax=22, linewidth=2, color='r')\n",
    "plt.grid()\n",
    "plt.show()"
   ]
  }
 ],
 "metadata": {
  "kernelspec": {
   "display_name": "Python 3 (ipykernel)",
   "language": "python",
   "name": "python3"
  },
  "language_info": {
   "codemirror_mode": {
    "name": "ipython",
    "version": 3
   },
   "file_extension": ".py",
   "mimetype": "text/x-python",
   "name": "python",
   "nbconvert_exporter": "python",
   "pygments_lexer": "ipython3",
   "version": "3.11.5"
  }
 },
 "nbformat": 4,
 "nbformat_minor": 4
}
