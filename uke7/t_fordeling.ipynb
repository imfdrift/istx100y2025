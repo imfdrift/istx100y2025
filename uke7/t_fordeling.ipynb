{
 "cells": [
  {
   "cell_type": "markdown",
   "metadata": {},
   "source": [
    "# t-fordeling\n",
    "\n",
    "$t$-fordelingen er en ekstremt spesialisert fordeling. I dette emnet dukker behovet for $t$-fordeling opp når vi har observasjoner som kan antas *normalfordelte*, men med både ukjent forventningsverdi $\\mu$ og ukjent standardavvik $\\sigma$. Hvis vi vil estimere forventningsverdien $\\mu$ fra et tilfeldig utvalg og si noe om usikkerheten i estimatet vårt ved hjelp av et konfidensintervall, så trenger vi $t$-fordelingen. Det samme gjelder om vi ønsker å gjøre en hypotesetest om $\\mu$, eller inferens på regresjonslinja i lineær regresjon (uke 8 og 9). \n",
    "\n",
    "$t$-fordelingen ligner på normalfordeling, men den har tykkere haler. Jo færre målinger vi har gjort, jo større forskjell er det på de to fordelingene. $t$-fordelingen er derfor uhyre viktig i situasjoner der det er dyrt, vanskelig eller bare ekstremt tidskrevende å gjøre mange målinger. \n",
    "\n",
    "$t$-fordelingen beskrives av en parameter $\\nu$, som ofte kalles antall frihetsgrader. Når vi starter med et utvalg av normalfordelte størrelser har vi egne regneregler for å komme frem til parameterverdien $\\nu$."
   ]
  },
  {
   "cell_type": "code",
   "execution_count": null,
   "metadata": {
    "tags": []
   },
   "outputs": [],
   "source": [
    "from scipy import stats # statistikk-modulen i scipy-pakken\n",
    "import matplotlib.pyplot as plt # plotting\n",
    "import numpy as np"
   ]
  },
  {
   "cell_type": "markdown",
   "metadata": {},
   "source": [
    "## Sannsynlighetstetthet $f(x)$\n",
    "\n",
    "For $t$-fordelingen har funksjonen $f(x)$ en lignende klokkeform (\"bell curve\") som normalfordelingen. Kurven er symmetrisk, sentrert rundt $x = 0$, der den også har et toppunkt."
   ]
  },
  {
   "cell_type": "code",
   "execution_count": null,
   "metadata": {
    "tags": []
   },
   "outputs": [],
   "source": [
    "nu = 2 # parameterverdi i t-fordeling, prøv gjerne med ulike nu; 2,3,4,5,6, osv.\n",
    "xval = np.linspace(- 4,+ 4, 100)  # x-verdier\n",
    "fx = stats.t.pdf(xval, nu)     # f(x)\n",
    "plt.plot(xval, fx)\n",
    "plt.grid(); plt.ylabel(\"f(x)\"); plt.xlabel(\"x\")\n",
    "plt.show()"
   ]
  },
  {
   "cell_type": "markdown",
   "metadata": {},
   "source": [
    "## Kumulative sannsynligheter"
   ]
  },
  {
   "cell_type": "code",
   "execution_count": null,
   "metadata": {
    "tags": []
   },
   "outputs": [],
   "source": [
    "nu = 2\n",
    "x = 2\n",
    "stats.t.cdf(x,nu)  # P(X ≤ x)"
   ]
  },
  {
   "cell_type": "code",
   "execution_count": null,
   "metadata": {
    "tags": []
   },
   "outputs": [],
   "source": [
    "# Sammenligne med standard normalfordeling\n",
    "stats.norm.cdf(x,0,1,)  # P(Z ≤ x)"
   ]
  },
  {
   "cell_type": "markdown",
   "metadata": {},
   "source": [
    "## Kritiske verdier i t-fordelingen\n",
    "\n",
    "En kritisk verdi er et punkt $x_{\\alpha}$ på tallinja slik at $P(X > x_{\\alpha}) = \\alpha$ for en gitt sannsynlighet $\\alpha$. Dersom $X \\sim t(\\nu)$, hvilket tall på tallinja, $x_{0.1}$ oppfyller $P(X > x_{0.1}) = 0.1$? Kritiske verdier i $t$-fordelingen er det vi har mest bruk for når det gjelder denne spesialfordelingen. \n",
    "\n",
    "Husk at den kritiske verdien i $t$-fordelingen avhenger av den hale-sannsynligheten vi er ute etter ($\\alpha = 0.1$ i dette eksempelet), og parametervedien i $t$-fordelingen. "
   ]
  },
  {
   "cell_type": "code",
   "execution_count": null,
   "metadata": {
    "tags": []
   },
   "outputs": [],
   "source": [
    "nu = 5\n",
    "alpha = 0.1\n",
    "stats.t.ppf(1-alpha,nu) # OBS: 1-alpha fordi pythons ppf-funksjon regner på venstre hale"
   ]
  },
  {
   "cell_type": "code",
   "execution_count": null,
   "metadata": {
    "tags": []
   },
   "outputs": [],
   "source": [
    "# Plotter kritisk verdi og areal i høyre hale \n",
    "xval = np.linspace(-4, 4, 100)  # x-verdier\n",
    "fx = stats.t.pdf(xval, nu)       # f(x)\n",
    "x_alpha = stats.t.ppf(1 - alpha,nu)\n",
    "section = np.linspace(x_alpha,4, 100, 100) # alle x-verdier fra x_alpha og oppover\n",
    "plt.plot(xval, fx)\n",
    "plt.fill_between(section,stats.t.pdf(section, nu))\n",
    "plt.grid(); plt.ylabel(\"f(x)\"); plt.xlabel(\"x\")\n",
    "plt.show()"
   ]
  }
 ],
 "metadata": {
  "kernelspec": {
   "display_name": "Python 3 (ipykernel)",
   "language": "python",
   "name": "python3"
  },
  "language_info": {
   "codemirror_mode": {
    "name": "ipython",
    "version": 3
   },
   "file_extension": ".py",
   "mimetype": "text/x-python",
   "name": "python",
   "nbconvert_exporter": "python",
   "pygments_lexer": "ipython3",
   "version": "3.11.5"
  }
 },
 "nbformat": 4,
 "nbformat_minor": 4
}
