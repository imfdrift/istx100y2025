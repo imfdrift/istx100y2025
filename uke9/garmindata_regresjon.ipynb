{
 "cells": [
  {
   "cell_type": "markdown",
   "metadata": {},
   "source": [
    "# Sensordata fra Garmin løpeklokke: Lineær regresjon"
   ]
  },
  {
   "cell_type": "markdown",
   "metadata": {},
   "source": [
    "Datasettet `garmindata.csv` har vi lastet ned fra en personlig brukerkonto på connect.garmin.com. Vi har allerede studert dette datasettet i notatboken garmindata.ipynb (beskrivende statistikk, uke 1), og vi skal nå bruke det samme datasettet for å tilpasse lineære regresjonsmodeller (uke 9). Denne gangen henter vi inn et ferdig redigert datasett (kolonnenavn på ønsket format og uteligger er fjernet).\n",
    "\n",
    "Vi skal studere sammenhengen mellom distanse og tid på løpeturer, og i tillegg høydemeter og kaloriforbruk. "
   ]
  },
  {
   "cell_type": "markdown",
   "metadata": {},
   "source": [
    "## Læringsmål: Linær regresjon\n",
    "\n",
    "### Delmål\n",
    "1. Tilpasse en regresjonsmodell til data og lese ut resultater fra analysen\n",
    "2. Konfidensintervall for regresjonslinja\n",
    "3. Usikkerhet forbundet med prediksjoner\n",
    "4. Hvor god er modellen ($R^2$)?\n",
    "5. Residualer og sjekk av modellantagelsene\n",
    "\n",
    "## Motivasjon\n",
    "\n",
    "### Lineær regresjon og modellantagelser\n",
    "\n",
    "Vi lar distansen (i km) på en løpetur være en forklaringsvariabel, $x$, (også kalt kovariat), mens tidsbruk (i minutter) er en responsvariabel, $Y$. Vi antar at tiden det tar å løpe en viss distanse er en normalfordelt størrelse der forventningsverdien er lineær i $x$, beskrevet at regresjonslinja $\\beta_0 + \\beta_1 x$, og der variasjonen er den samme uansett distanse: \n",
    "\n",
    "$$Y|X=x \\sim N(\\beta_0 + \\beta_1 x, \\sigma)$$\n",
    "\n",
    "Vi antar videre at observasjonsparene $(x_1, Y_1), \\ldots, (x_{55}, Y_{55})$ er uavhengige. Denne antagalsen innebærer at hvis du *vet* at joggeren løp $x_i$ km på $y_i$ minutter på dag $i$, så gir det deg ikke noe tilleggsinformasjon når det kommer til å modellere tiden $Y_{j}$ på en annen løpetur (som var på $x_{j}$ km).\n",
    "\n",
    "**Merk:** Her kommer du til å få repetert metoder fra \n",
    "- beskrivende statistikk (uke 1), \n",
    "- normalfordelingen (uke 6),\n",
    "- estimering og konfidensintervall i normalfordeling (uke 7), og \n",
    "- hypotesetester (uke 8)"
   ]
  },
  {
   "cell_type": "markdown",
   "metadata": {},
   "source": [
    "## Steg 1: Laste inn nødvendige python-pakker"
   ]
  },
  {
   "cell_type": "code",
   "execution_count": null,
   "metadata": {
    "tags": []
   },
   "outputs": [],
   "source": [
    "import pandas as pd # lese data fra csv-fil og bruke DataFrames\n",
    "import seaborn as sns # plotting\n",
    "sns.set(style = 'whitegrid', font_scale = 1.5) # utseende av plott\n",
    "import matplotlib.pyplot as plt # mer plotting\n",
    "import numpy as np # matematikk\n",
    "import statsmodels.api as sms # regresjonen\n",
    "import statsmodels.formula.api as smf # formel for regresjonen"
   ]
  },
  {
   "cell_type": "markdown",
   "metadata": {},
   "source": [
    "## Steg 2: Lese inn data (repetisjon)"
   ]
  },
  {
   "cell_type": "code",
   "execution_count": null,
   "metadata": {
    "tags": []
   },
   "outputs": [],
   "source": [
    "df = pd.read_csv('https://www.math.ntnu.no/emner/ISTx100y/python_felles/garmindata2.csv')\n",
    "df.shape # dimenensjonen til datasettet"
   ]
  },
  {
   "cell_type": "code",
   "execution_count": null,
   "metadata": {
    "tags": []
   },
   "outputs": [],
   "source": [
    "print(df.columns) # Alle kolonnenavn"
   ]
  },
  {
   "cell_type": "markdown",
   "metadata": {},
   "source": [
    "## Steg 2: Beskrivende statistikk\n",
    "\n",
    "Vi er hovedsakelig er interessert i sammenhengen mellom *tid og distanse* og gjør beskrivende statistikk på disse observasjonene. "
   ]
  },
  {
   "cell_type": "markdown",
   "metadata": {},
   "source": [
    "### Gjennomsnitt og standardavvik"
   ]
  },
  {
   "cell_type": "code",
   "execution_count": null,
   "metadata": {
    "tags": []
   },
   "outputs": [],
   "source": [
    "gjsnitt_dist = sum(df['Distance'])/55\n",
    "avvik = [(x - gjsnitt_dist) ** 2 for x in df['Distance']]\n",
    "sd_dist = np.sqrt(sum(avvik)/54)\n",
    "\n",
    "print(\"Gjennomsnittlig distanse:\", round(gjsnitt_dist,2), \"km\")\n",
    "print(\"Standardavvik distanse:\", round(sd_dist,2), \"km\")"
   ]
  },
  {
   "cell_type": "code",
   "execution_count": null,
   "metadata": {
    "tags": []
   },
   "outputs": [],
   "source": [
    "gjsnitt_tid = sum(df['TimeMin'])/55\n",
    "avvik_tid = [(x - gjsnitt_tid) ** 2 for x in df['TimeMin']]\n",
    "sd_tid = np.sqrt(sum(avvik_tid)/54)\n",
    "var_tid = sum(avvik_tid)/54\n",
    "\n",
    "print(\"Gjennomsnittlig tid:\", round(gjsnitt_tid,2), \"min\")\n",
    "print(\"Standardavvik tid:\", round(sd_tid,2), \"min\")\n",
    "print(\"Varians tid:\", round(var_tid,2))"
   ]
  },
  {
   "cell_type": "markdown",
   "metadata": {},
   "source": [
    "### Histogrammer og boksplott"
   ]
  },
  {
   "cell_type": "code",
   "execution_count": null,
   "metadata": {
    "tags": []
   },
   "outputs": [],
   "source": [
    "plt.subplot(1, 2, 1)\n",
    "sns.histplot(df['Distance'], bins = range(2, 10))\n",
    "plt.subplot(1, 2, 2)\n",
    "sns.boxplot(y='Distance',data=df)\n",
    "plt.ylim(2, 9)\n",
    "plt.tight_layout()\n",
    "plt.show()"
   ]
  },
  {
   "cell_type": "code",
   "execution_count": null,
   "metadata": {
    "tags": []
   },
   "outputs": [],
   "source": [
    "plt.subplot(1, 2, 1)\n",
    "sns.histplot(df['TimeMin'], bins = np.arange(10, 60, 5).tolist(),color = 'y')\n",
    "plt.subplot(1, 2, 2)\n",
    "sns.boxplot(y='TimeMin',data=df,color='y')\n",
    "plt.ylim(10, 50)\n",
    "plt.tight_layout()\n",
    "plt.show()"
   ]
  },
  {
   "cell_type": "markdown",
   "metadata": {},
   "source": [
    "**Kommentar**: Vi observerer at observasjonene og tid og distanse er relativt symmetriske, men der en viss overvekt av korte turer mellom 20 og 25 minutter.\n",
    "\n",
    "**NB!**: Vi har *ikke* antatt at distanse eller tid er normalfordelte størrelser hver for seg. Antagelsen vår er at tid, betinget på distanse, er normalfordelt. Derfor skal vi ikke bruke disse figurene til å kommentere normalfordeling, men det er greit å vite noe om hvordan observasjoner av tid og distanse ser ut."
   ]
  },
  {
   "cell_type": "markdown",
   "metadata": {},
   "source": [
    "### Kryssplott / Spredningsplott"
   ]
  },
  {
   "cell_type": "code",
   "execution_count": null,
   "metadata": {
    "scrolled": true,
    "tags": []
   },
   "outputs": [],
   "source": [
    "# Plotter tid mot distanse for å få et inntrykk av datasettet\n",
    "sns.relplot(x='Distance', y='TimeMin',data = df)\n",
    "plt.xlim(0,10); plt.ylim(0,60)\n",
    "plt.ylabel('Tid [min]'); plt.xlabel('Distanse [km]')\n",
    "plt.show()"
   ]
  },
  {
   "cell_type": "markdown",
   "metadata": {},
   "source": [
    "### Kovarians og korrelasjon"
   ]
  },
  {
   "cell_type": "code",
   "execution_count": null,
   "metadata": {
    "tags": []
   },
   "outputs": [],
   "source": [
    "hat_cov = sum(np.multiply([(x - gjsnitt_dist) for x in df['Distance']],[(y - gjsnitt_tid) for y in df['TimeMin']]))/54\n",
    "print(\"Estimert kovarians:\", round(hat_cov,2))\n",
    "r = hat_cov/(sd_dist*sd_tid)\n",
    "print(\"Estimert (empirisk) korrelasjon:\", round(r,2))"
   ]
  },
  {
   "cell_type": "markdown",
   "metadata": {},
   "source": [
    "**Kommentar:** Vi observerer korrelasjon $r=0.97$ mellom tid og distanse. Hva betyr det? Som vi også ser i figuren så er det tydelig at det er en *lineær* sammenheng mellom tid og distanse, og derfor blir kovarians og korrelasjon ulik 0. Sammenheng mellom tid og distanse er positiv (lengre distanse, mer tid), og derfor er kovarians og korrelasjon positive tall. \n",
    "I tillegg ser vi fra figuren at det lite annet \"støy\". Litt uformelt vil det si at dersom vi *vet* hvilken verdi den ene variabelen tar, så skal vi klare å gjette ganske så presist hvilken verdi den andre variabelen kommer til å ta. Da får vi en korrelasjon som nesten er lik 1. "
   ]
  },
  {
   "cell_type": "code",
   "execution_count": null,
   "metadata": {
    "tags": []
   },
   "outputs": [],
   "source": [
    "# Vi kan også regne ut korrelasjon med Pandas\n",
    "round(df['Distance'].corr(df['TimeMin']),2)"
   ]
  },
  {
   "cell_type": "markdown",
   "metadata": {},
   "source": [
    "## Steg 3: Tilpasse en lineær regresjonsmodell"
   ]
  },
  {
   "cell_type": "code",
   "execution_count": null,
   "metadata": {
    "tags": []
   },
   "outputs": [],
   "source": [
    "modell = smf.ols('TimeMin~Distance', data=df).fit()\n",
    "# Merk: I video brukes denne metoden: (gir akkurat samme resultat)\n",
    "# X = df[['Distanse']]    # Bestemme kovariat x\n",
    "# X = sms.add_constant(X) # Legge til konstant for å ha med konstantledd beta_0 i modellen\n",
    "# y = df['Tid']           # Bestemme responsvariabel y\n",
    "# modell = sms.OLS(y, X).fit()\n",
    "modell.summary()"
   ]
  },
  {
   "cell_type": "markdown",
   "metadata": {},
   "source": [
    "### Lese av estimert regresjonslinje\n",
    "\n",
    "Vi kan lese at estimert linje er $\\hat{y}_i = 1.6002 + 5.6524 x_i$. Regresjonslinja er plottet i figuren under. Estimatet av linja innebærer at *estimert* forventet tid på en 5-km løpetur er $\\hat{\\text{E}}(Y|X=5) = 29.86$ minutter. Det vi si at dersom joggeren løper 5 km veldig mange ganger, så tror vi at *gjennomsnittstiden* av alle disse løpeturene vil bli på 29.86 minutter.\n",
    "\n",
    "Vi kan også lese ut testobservatoren $t = 28.782$ (og $p$-verdien som, pga avrunding til 3 desimaler, tydeligvis er mindre enn $0.0005$) for en hypotesetest på stigningstallet ($H_0: \\beta_1 = 0$, mot $H_1: \\beta_1 \\neq 0$), samt et 95% konfidensintervall $[5.258, 6.046]$ på stigningstallet. "
   ]
  },
  {
   "cell_type": "markdown",
   "metadata": {},
   "source": [
    "### Plotte estimert regresjonslinje"
   ]
  },
  {
   "cell_type": "code",
   "execution_count": null,
   "metadata": {
    "tags": []
   },
   "outputs": [],
   "source": [
    "predres = modell.get_prediction().summary_frame(alpha = 0.05)  # Estimert forventningsverdi, prediksjon og intervaller\n",
    "df_pred = pd.concat([df[[\"Distance\",\"TimeMin\"]], predres], axis=1)\n",
    "sns.relplot(x=\"Distance\", y=\"TimeMin\",data = df_pred, label=\"Observasjoner\")\n",
    "sns.lineplot(x='Distance', y='mean', data = df_pred, label = \"Tilpasset regresjonslinje\")\n",
    "plt.ylim(10, 50); plt.xlim(2.5, 9); plt.ylabel(\"Tid\"); plt.xlabel(\"Distanse\")\n",
    "plt.legend(loc='center left', bbox_to_anchor=(1, 0.5))\n",
    "plt.show()"
   ]
  },
  {
   "cell_type": "markdown",
   "metadata": {},
   "source": [
    "### Hvor god er modellen? $R^2$\n",
    "\n",
    "I sammendraget kan vi også lese av mål på hvor god modellen er: $R^2 = 0.940$, der $R^2$ er kvadratet av korrelasjonen som vi regnet ut tidligere. $R^2$ forteller oss hvor mye variasjon i respons-variabelen (tid) som forklares av regresjonsmodellen. \n",
    "\n",
    "I koden under regner vi ut at empirisk varians i observasjonene av tid på løpeturer er 63.1. Variansen i tid sier noe om spredningen av observasjoner rundt gjennomsnittet. \n",
    "\n",
    "Etter at vi har tilpasset regresjonsmodellen kan vi estimere variansen i tid *betinget på* distanse. Det vil si spredning av observasjoner over og under regresjonslinja. Som vi allerede kan se fra kryssplottet av tid og distanse, er det lite spredning rundt linja (høy korrelasjon) og varians i tid 'rundt' linja er 3.87."
   ]
  },
  {
   "cell_type": "code",
   "execution_count": null,
   "metadata": {},
   "outputs": [],
   "source": [
    "round(np.var(df['TimeMin'], ddof = 1),2) # varians i tid"
   ]
  },
  {
   "cell_type": "code",
   "execution_count": null,
   "metadata": {},
   "outputs": [],
   "source": [
    "round(modell.mse_resid,2) # varians i tid 'rundt' regresjonslinja"
   ]
  },
  {
   "cell_type": "markdown",
   "metadata": {},
   "source": [
    "Vi startet altså med en (total) varians i tid på 63.1, men etter å ha tilpasset en modell for tid betinget på distanse, sitter vi igjen med en varians på 3.87. Andelen varians i tid som ennå ikke har blitt \"forklart\" er omtrent $\\frac{3.87}{63.1} = 0.06$, mens den andelen av variansen som har blitt forklart med regresjonsmodellen, $R^2$, er omtrent $\\frac{63.1 - 3.87}{63.1} = 1 -  \\frac{3.87}{63.1} = 0.94$."
   ]
  },
  {
   "cell_type": "markdown",
   "metadata": {},
   "source": [
    "### Konfidensintervall for regresjonslinja"
   ]
  },
  {
   "cell_type": "markdown",
   "metadata": {},
   "source": [
    "Litt lengre opp på siden hentet vi ut estimatet for linja ved en funksjon `modell.get_prediction().summary_frame(alpha = 0.05)`. Denne funksjonen gir oss også et konfidensintervall for linja. Siden vi har valgt $\\alpha = 0.05$ får vi ut et 95% konfidensintervall på regresjonslinja som er plottet under."
   ]
  },
  {
   "cell_type": "code",
   "execution_count": null,
   "metadata": {},
   "outputs": [],
   "source": [
    "sns.relplot(x='Distance', y='TimeMin',data = df_pred, label=\"Observasjoner\")\n",
    "sns.lineplot(x='Distance', y='mean', data = df_pred, label = \"Tilpasset regresjonslinje\")\n",
    "\n",
    "sns.lineplot(x='Distance', y='mean_ci_lower', data = df_pred, color = \"lightblue\",label = \"95% Konfidensintervall \\n for regresjonslinjen\")\n",
    "sns.lineplot(x='Distance', y='mean_ci_upper', data = df_pred, color = \"lightblue\")\n",
    "\n",
    "plt.ylim(10, 50); plt.xlim(2.5, 9); plt.ylabel(\"Tid\"); plt.xlabel(\"Distanse\")\n",
    "plt.legend(loc='center left', bbox_to_anchor=(1, 0.5))\n",
    "plt.show()"
   ]
  },
  {
   "cell_type": "markdown",
   "metadata": {},
   "source": [
    "Konfidensintervallet på linja viser hvor vi med rimelig stor sikkerhet tror at regresjonslinja ligger. Alle rette linjer som vi kan plassere innenfor konfidensintervallet, er rimelige estimater på $E(Y|X=x) = \\beta_0 + \\beta_1 x$.  Vi ser at vi kan dytte *litt* på den tilpassede regresjonslinja og likevel holde oss innenfor intervallet. Intervallet reflekterer usikkerheten i estimatet av linja, og her ser vi at det generelt er lite usikkerhet, spesielt i \"midten\" av datasettet. "
   ]
  },
  {
   "cell_type": "markdown",
   "metadata": {},
   "source": [
    "## Steg 4: Prediksjoner basert på den lineære regresjonsmodellen\n",
    "\n",
    "Når det gjelder å *predikere* tiden joggeren bruker dersom hun i morgen løper 5 km (én løpetur), så gjetter vi på $\\hat{\\beta}_0 + \\hat{\\beta}_1 \\cdot 5$, som er lik 29.86 minutter, altså estimatet av regresjonslinja. \n",
    "\n",
    "Kan vi predikere tiden joggeren bruker på 10 km? $\\hat{\\beta}_0 + \\hat{\\beta}_1 \\cdot 10 = 58.13$ min? Kan vi predikere tiden joggeren bruker på et maraton? $\\hat{\\beta}_0 + \\hat{\\beta}_1 \\cdot 42.195 = 240.12$ min $= 4$ timer? Generelt skal vi være forsiktige med å gjøre prediksjoner langt utenfor området av datasettet. Siden joggeren ikke har en eneste løpetur over 10 km i datasettet så må vi spørre oss om hun i det hele tatt er i stand til å løpe et helt maraton?"
   ]
  },
  {
   "cell_type": "markdown",
   "metadata": {},
   "source": [
    "### Prediksjonsintervall "
   ]
  },
  {
   "cell_type": "code",
   "execution_count": null,
   "metadata": {
    "tags": []
   },
   "outputs": [],
   "source": [
    "sns.relplot(x='Distance', y='TimeMin',data = df_pred, label=\"Observasjoner\")\n",
    "sns.lineplot(x='Distance', y='mean', data = df_pred, label = \"Tilpasset regresjonslinje\")\n",
    "\n",
    "sns.lineplot(x='Distance', y='mean_ci_lower', data = df_pred, color = \"lightblue\",label = \"95% Konfidensintervall \\n for regresjonslinjen\")\n",
    "sns.lineplot(x='Distance', y='mean_ci_upper', data = df_pred, color = \"lightblue\")\n",
    "\n",
    "sns.lineplot(x='Distance', y='obs_ci_lower', data = df_pred, color = \"black\",label = \"95% Prediksjonsintervall \\n for nye løpeturer\")\n",
    "sns.lineplot(x='Distance', y='obs_ci_upper', data = df_pred, color = \"black\")\n",
    "\n",
    "plt.ylim(10, 50); plt.xlim(2.5, 9); plt.ylabel(\"Tid\"); plt.xlabel(\"Distanse\")\n",
    "plt.legend(loc='center left', bbox_to_anchor=(1, 0.5))\n",
    "plt.show()"
   ]
  },
  {
   "cell_type": "markdown",
   "metadata": {},
   "source": [
    "I figuren over har vi plottet prediksjonsintervaller for nye løpeturer. Dersom joggeren skal løpe 5 km i morgen, hvor lang tid vil du gjette på at hun kommer til å bruke? Hvis du bare skal gi ett tall, så bruker du den tilpassede regresjonslinja. Men tilpasningen av linja er forbundet med usikkerhet (som reflekteres av konfidensintervallet for linja). I tillegg er utfallet av hver enkelt løpetur forbundet med usikkerhet, siden $Y|X=x$ er en stokastisk variabel med estimert standardavvik på $\\sqrt{3.87} \\approx 1.97$ minutter. Når vi tar hensyn til begge disse kildene til usikkerhet *samtidig*, så kan vi regne ut prediksjonsintervaller slik som vist i figuren."
   ]
  },
  {
   "cell_type": "markdown",
   "metadata": {},
   "source": [
    "## Steg 5: Modellsjekk med residualplott\n",
    "\n",
    "For å sjekke modellantagelser er det vanlig å plotte det som kalles residualer. Og, for å forstå hva residualer er, er det lurt å tenke på regresjonsmodellen på følgende måte: \n",
    "$$ Y = \\beta_0 + \\beta_1 x + e, \\quad e \\sim N(0, \\sigma). $$\n",
    "\n",
    "Vi definerer altså $Y$ (*tid* i vårt eksempel) som en sum av to ledd. Det første leddet er regresjonslinja $\\beta_0 + \\beta_1 x$. Dette leddet er ikke stokastisk, men kan variere ettersom vi varier $x$ (*distanse* i vårt eksempel). Det andre leddet, $e$, kalles et *feilledd*, og $e$ er en normalfordelt stokastisk variabel med forventning 0 og standardavvik $\\sigma$. Siden $Y$ her er definert som en konstant pluss en normalfordelt stokastisk variabel så er $Y \\sim N(\\beta_0 + \\beta_1x, \\sigma)$, akkurat som vi har antatt frem til nå. Denne måten å skrive regresjonsmodellen på fremhever skillet mellom regresjonslinja, $\\beta_0 + \\beta_1 x$, og de stokastiske avvikene over og under linja, $e \\sim N(0, \\sigma)$. Når vi har et tilfeldig utvalg antar vi at feilledene $e_1, e_2, \\ldots, e_n$ er uavhengige.\n",
    "\n",
    "Etter å ha tilpasset regresjonsmodellen kan vi regne ut *residualene* $$\\hat{e}_i = y_i - (\\hat{\\beta}_0 + \\hat{\\beta}_1 x_i),$$ som rett og slett er estimater av tallverdien av feilleddene $e_i$, $i = 1, \\ldots, n$.\n",
    "\n",
    "For å sjekke om modellantagelsene er tilfredsstilt så bør residualene se ut til å være realisasjoner av uavhengige og normalfordelte stokastiske variabler med forventning $0$ og alle med samme varians/standardavvik. "
   ]
  },
  {
   "cell_type": "markdown",
   "metadata": {},
   "source": [
    "### Er forholdet mellom respons $Y$ og kovariat $x$ lineært, og er variansen den samme for alle verdier av kovariaten $x$?"
   ]
  },
  {
   "cell_type": "code",
   "execution_count": null,
   "metadata": {},
   "outputs": [],
   "source": [
    "df_resid = pd.DataFrame({\"Distanse\": df[\"Distance\"], \"Residual\": modell.resid} ) \n",
    "sns.relplot(x='Distanse', y=\"Residual\",data = df_resid,marker=\"x\")\n",
    "plt.plot([2.5, 8], [0, 0], color = \"grey\",linewidth=2, linestyle = \"--\")\n",
    "plt.show()"
   ]
  },
  {
   "cell_type": "markdown",
   "metadata": {},
   "source": [
    "Her har vi plottet residualene $\\hat{e}_i$ mot kovariaten $x_i$ i regresjonsmodellen. En av antagelsene i regresjonsmodellen er at responsvariabelen $Y$ tar verdier over og under regresjonslina $\\beta_0 + \\beta_1 x$ ifølge en normalfordeling med standardavvik $\\sigma$ der standardavviket er det samme uansett hvilken verdi $x$ tar. En annen måte å fremstille denne antagelsen på er at feilledenne $e_i$ er normalfordelte med forventning 0 og med samme standardavvik $\\sigma$. For å sjekke denne antagelsen kan vi sjekke at residualene $\\hat{e}_i$ ser ut til å være tilfeldig trukket fra en fordeling med forventning 0 og samme standardavvik for alle $x_i$. \n",
    "\n",
    "Vi burde bekymre oss dersom det så ut til å være en trend i figuren (kanskje forholdet mellom $y$ og $x$ ikke er lineært?) eller dersom variansen/spredning av residualene ikke så ut til å være lik overalt. "
   ]
  },
  {
   "cell_type": "markdown",
   "metadata": {},
   "source": [
    "### Normalfordelt respons (feilledd)?"
   ]
  },
  {
   "cell_type": "code",
   "execution_count": null,
   "metadata": {},
   "outputs": [],
   "source": [
    "sms.qqplot(modell.resid,line='45',fit=True)\n",
    "plt.ylabel(\"Kvantiler i residualene\")\n",
    "plt.xlabel(\"Kvantiler i normalfordelingen\")\n",
    "plt.show()"
   ]
  },
  {
   "cell_type": "markdown",
   "metadata": {},
   "source": [
    "Her har vi plottet det som kalles et QQ-plott. Vi plotter kvantiler i residualene (1% laveste, 5% laveste, 10% laveste, median osv.) mot teoretiske kvantiler i normalfordelingen. Dersom kvantilene legger seg på en rett linje, ser antagelsen om normalfordelte feilledd $e \\sim N(0,\\sigma)$ (og dermed $Y|X=x$ normalfordelt) ut til å stemme. "
   ]
  },
  {
   "cell_type": "markdown",
   "metadata": {},
   "source": [
    "### Er observasjonene uavhengige?"
   ]
  },
  {
   "cell_type": "code",
   "execution_count": null,
   "metadata": {},
   "outputs": [],
   "source": [
    "df_resid['Observasjonsnummer'] = df_resid.index\n",
    "sns.relplot(x='Observasjonsnummer', y=\"Residual\",\n",
    "            data = df_resid,marker=\"x\", kind=\"line\")\n",
    "plt.show()"
   ]
  },
  {
   "cell_type": "markdown",
   "metadata": {},
   "source": [
    "Generelt er det ikke enkelt å se på dataene om observasjonene våre er uavhengige. Kanskje må vi samle inn data på en slik måte at vi sikrer uavhengighet mellom observasjoenen. I dette eksempelet er *målingene* gjort over tid, fra juni 2020 til oktober 2020. Når vi plotter residualene i mot observasjonsnummer kan vi se etter eventuelle trender i tid. Her kan det kanskje se ut som om løpstidene til joggeren har forbedret seg fra juni til august. Det vil bety at tiden som ble brukt på løpetur nr $i$ til en viss grad avhenger av de løpeturene som har blitt gjort før, og det bryter med antagelsen om uavhengighet. Det bør vi ha i bakhodet dersom vi vil gjøre prediksjoner fremover i tid. I mer viderkomne statistikk-kurs kan du lære om *tidsrekkemodeller*."
   ]
  },
  {
   "cell_type": "markdown",
   "metadata": {},
   "source": [
    "# Bonus: illustrasjon av datasett med lavere korrelasjon"
   ]
  },
  {
   "cell_type": "markdown",
   "metadata": {},
   "source": [
    "## Kalori og høydemeter på løpeturer\n",
    "\n",
    "I dette eksempelet skal vi bruke lineær regresjon for å modellere sammenhengen mellom antall høydemeter klatret i løpet av en joggetur og (estimert) kaloriforbruk. Merk at en løpeklokke ikke måler kaloriforbruk, så vi må anta at det finnes en algoritme som estimerer kaloriforbruk ved å ta i bruk en rekke forklaringsvariabler (tid, distanse, puls, etc.)\n",
    "\n",
    "#### Hvorfor høydemeter som forklaringsvariabel?\n",
    "Vi kan tenke oss at joggeturer med mange oppoverbakker er mer *krevende* enn de joggeturerne som går på flata. Vi ønsker å sjekke denne hypotesen ved å tilpasse en lineær regresjonsmodell mellom antall høydemeter og kaloriforbruk. \n",
    "\n",
    "#### Hva skal du se etter?\n",
    "Ved å se på dette eksempelet *etter* at du har studert modellen for tid og distanse på løpeturer, kan du forstå mer av hva korrelasjon, $R$, og målet på hvor god modellen er, $R^2$, forteller oss. Det burde være åpenbart at antall høydemeter ikke vil være den eneste forklaringsvariabelen for kaloriforbruk, og dermed ser vi at den enkle regresjonsmodellen ikke klarer å forklare en særlig stor andel av variasjonen kaloriforbruk på løpeturer."
   ]
  },
  {
   "cell_type": "code",
   "execution_count": null,
   "metadata": {
    "tags": []
   },
   "outputs": [],
   "source": [
    "sns.relplot(x='Elev_Gain', y='Calories',data = df, color = \"darkgreen\")\n",
    "plt.ylabel(\"Kalorier\"); plt.xlabel(\"Hoydemeter\")\n",
    "plt.show()"
   ]
  },
  {
   "cell_type": "code",
   "execution_count": null,
   "metadata": {
    "tags": []
   },
   "outputs": [],
   "source": [
    "modell = smf.ols('Calories~Elev_Gain', data=df).fit()\n",
    "modell.summary()  # Merk R^2"
   ]
  },
  {
   "cell_type": "code",
   "execution_count": null,
   "metadata": {
    "tags": []
   },
   "outputs": [],
   "source": [
    "predres = modell.get_prediction().summary_frame(alpha = 0.05)\n",
    "df_pred = pd.concat([df[[\"Elev_Gain\",\"Calories\"]], predres], axis=1)\n",
    "sns.relplot(x=\"Elev_Gain\", y=\"Calories\",data = df_pred, color = \"g\", label=\"Observasjoner\")\n",
    "sns.lineplot(x='Elev_Gain', y='mean', data = df_pred, color = \"g\",label = \"Tilpasset regresjonslinje\")\n",
    "plt.ylim(150, 500); plt.xlim(0, 150); plt.ylabel(\"Kalorier\"); plt.xlabel(\"Hoydemeter\")\n",
    "plt.legend(loc='center left', bbox_to_anchor=(1, 0.5))\n",
    "plt.show()"
   ]
  },
  {
   "cell_type": "code",
   "execution_count": null,
   "metadata": {
    "tags": []
   },
   "outputs": [],
   "source": [
    "sns.relplot(x=\"Elev_Gain\", y=\"Calories\",data = df_pred, color = \"g\", label=\"Observasjoner\")\n",
    "sns.lineplot(x='Elev_Gain', y='mean', data = df_pred, color = \"g\",label = \"Tilpasset regresjonslinje\")\n",
    "sns.lineplot(x='Elev_Gain', y='mean_ci_lower', data = df_pred, color = \"lightgreen\",label = \"95% Konfidensintervall \\n for regresjonslinjen\")\n",
    "sns.lineplot(x='Elev_Gain', y='mean_ci_upper', data = df_pred, color = \"lightgreen\")\n",
    "sns.lineplot(x='Elev_Gain', y='obs_ci_lower', data = df_pred, color = \"black\",label = \"95% Prediksjonsintervall \\n for nye løpeturer\")\n",
    "sns.lineplot(x='Elev_Gain', y='obs_ci_upper', data = df_pred, color = \"black\")\n",
    "plt.ylim(150, 500); plt.xlim(0, 150); plt.ylabel(\"Kalorier\"); plt.xlabel(\"Hoydemeter\")\n",
    "plt.legend(loc='center left', bbox_to_anchor=(1, 0.5))\n",
    "plt.show()"
   ]
  },
  {
   "cell_type": "code",
   "execution_count": null,
   "metadata": {},
   "outputs": [],
   "source": []
  }
 ],
 "metadata": {
  "kernelspec": {
   "display_name": "Python 3 (ipykernel)",
   "language": "python",
   "name": "python3"
  },
  "language_info": {
   "codemirror_mode": {
    "name": "ipython",
    "version": 3
   },
   "file_extension": ".py",
   "mimetype": "text/x-python",
   "name": "python",
   "nbconvert_exporter": "python",
   "pygments_lexer": "ipython3",
   "version": "3.11.5"
  }
 },
 "nbformat": 4,
 "nbformat_minor": 4
}
