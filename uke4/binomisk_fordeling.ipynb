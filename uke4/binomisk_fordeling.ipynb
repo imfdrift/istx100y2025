{
 "cells": [
  {
   "cell_type": "markdown",
   "metadata": {},
   "source": [
    "# Binomisk fordeling "
   ]
  },
  {
   "cell_type": "markdown",
   "metadata": {},
   "source": [
    "La $X$ være en stokastisk variabel slik at $X \\sim \\text{binomisk}(n,p)$. Vi sier at $X$ er binomisk fordelt med parametere $n$ og $p$. Den stokastiske variabelen representerer antall suksesser i $n$ uavhengige og identiske forsøk der sannsynligheten for suksess er $p$ i hvert forsøk. \n",
    "\n",
    "I denne notatboken illustrerer vi hvordan du kan regne ut sannsynligheter for $X$, og plotte sannsynlighetsfordelingen til $X$, ved bruk av python-kode."
   ]
  },
  {
   "cell_type": "code",
   "execution_count": null,
   "metadata": {
    "tags": []
   },
   "outputs": [],
   "source": [
    "from scipy import stats # statistikk-modulen i scipy-pakken\n",
    "import matplotlib.pyplot as plt # plotting"
   ]
  },
  {
   "cell_type": "markdown",
   "metadata": {},
   "source": [
    "## Punktsannsynligheter\n",
    "\n",
    "Vi lar $X$ være binomisk fordelt med parametere $n$ og $p$. For å regne ut sannsynligheten $P(X = x)$ bruker vi funksjonen `stats.binom.pmf(x,n,p)` fra stats-modulen i scipy-pakken, der \"pmf\" er en forkortelse for \"probability mass function\" (punktsannsynlighet). \n",
    "\n",
    "Punktsannsynligheter for alle $x \\in \\{0, 1, 2, \\ldots, n\\}$ kan illustreres i et sannsynlighetshistogram der høyden (og arealet) på hver stolpe utgjør punktsannsynligheten."
   ]
  },
  {
   "cell_type": "code",
   "execution_count": null,
   "metadata": {
    "tags": []
   },
   "outputs": [],
   "source": [
    "n = 10   # antall forsøk\n",
    "p = 0.4  # sannsynligheten for suksess\n",
    "x = 3    # det tallet vi vil regne på sannsynlighet for\n",
    "stats.binom.pmf(x,n,p)  # P(X = x)"
   ]
  },
  {
   "cell_type": "code",
   "execution_count": null,
   "metadata": {},
   "outputs": [],
   "source": [
    "# stats.binom.pmf(3,10,0.4) # vi kan også skrive tallene rett inn i formelen"
   ]
  },
  {
   "cell_type": "code",
   "execution_count": null,
   "metadata": {
    "tags": []
   },
   "outputs": [],
   "source": [
    "# vi bruker funksjonen range under - så vi kan sjekke den litt først\n",
    "print(list(range(0,n))) \n",
    "print(max(range(0,n)))\n",
    "print(len(range(0,n)))"
   ]
  },
  {
   "cell_type": "code",
   "execution_count": null,
   "metadata": {
    "tags": []
   },
   "outputs": [],
   "source": [
    "# skrive ut alle punktsannsynligheter for x fra 0 til n\n",
    "stats.binom.pmf(range(0, (n+1)), n,p) "
   ]
  },
  {
   "cell_type": "markdown",
   "metadata": {},
   "source": [
    "### Plotte et sannsynlighetshistogram"
   ]
  },
  {
   "cell_type": "code",
   "execution_count": null,
   "metadata": {
    "tags": []
   },
   "outputs": [],
   "source": [
    "x_max = n+1 # hvor langt ut på x-aksen skal vi plotte? Juster om nødvendig\n",
    "plt.bar(range(0,x_max), stats.binom.pmf(range(0, x_max), n,p))\n",
    "plt.grid(); plt.ylabel(\"P(X = x)\"); plt.xlabel(\"x\")\n",
    "plt.show()"
   ]
  },
  {
   "cell_type": "markdown",
   "metadata": {},
   "source": [
    "## Kumulative sannsynligheter\n",
    "\n",
    "Vi lar $X$ være binomisk fordelt med parametere $n$ og $p$. For å regne ut den kumulative sannsynligheten $P(X \\leq x)$ bruker vi funksjonen `stats.binom.cdf(x,n,p)` fra stats-modulen i scipy-pakken, der \"cdf\" er en forkortelse for \"cumulative distribution function\" (kumulativ fordelingsfunksjon).\n",
    "\n",
    "Når vi har en måte for å regne ut kumulative sannsynligheter kan vi også regne ut andre sannsynligheter slik som $P(X < x)$ (streng ulikhet), $P(a < X \\leq b)$ (intervall), osv. \n",
    "\n",
    "Slike sannsynligheter kan forstås som arealet av flere stolper i et sannsynlighetshistogram."
   ]
  },
  {
   "cell_type": "code",
   "execution_count": null,
   "metadata": {
    "tags": []
   },
   "outputs": [],
   "source": [
    "n = 10   # antall forsøk\n",
    "p = 0.4  # sannsynligheten for suksess\n",
    "x = 3    # det tallet vi vil regne kumulativ sannsynlighet for\n",
    "stats.binom.cdf(x,n,p)  # P(X ≤ x)"
   ]
  },
  {
   "cell_type": "code",
   "execution_count": null,
   "metadata": {
    "tags": []
   },
   "outputs": [],
   "source": [
    "stats.binom.cdf(x-1,n,p) # P(X < x)"
   ]
  },
  {
   "cell_type": "code",
   "execution_count": null,
   "metadata": {
    "tags": []
   },
   "outputs": [],
   "source": [
    "stats.binom.cdf(5,n,p) - stats.binom.cdf(3,n,p)  # P(3 < X ≤ 5)"
   ]
  },
  {
   "cell_type": "markdown",
   "metadata": {},
   "source": [
    "### Plotte kumulative sannsynligheter"
   ]
  },
  {
   "cell_type": "code",
   "execution_count": null,
   "metadata": {
    "tags": []
   },
   "outputs": [],
   "source": [
    "x_max = n + 1 # hvor langt ut på x-aksen skal vi plotte? Juster om nødvendig\n",
    "plt.step(range(0,x_max), stats.binom.cdf(range(0, x_max), n,p))\n",
    "plt.grid(); plt.ylabel(\"P(X ≤ x)\"); plt.xlabel(\"x\")\n",
    "plt.show()"
   ]
  },
  {
   "cell_type": "markdown",
   "metadata": {},
   "source": [
    "# Geometrisk fordeling\n",
    "\n",
    "Binomisk og geometrisk fordeling nært beslektet på grunn av den binomiske forsøksrekka.\n",
    "\n",
    "Funksjoner for å beregne punktsannsynlighet og kumulativ sannsynlighet for geometrisk fordeling følger samme system som for binomisk.\n",
    "\n",
    "## Punktsannsynlighet \n",
    "\n",
    "Vi lar $Y$ være geometrisk fordelt med parameter $p$. For å regne ut sannsynligheten $P(Y = y)$ bruker vi funksjonen `stats.geom.pmf(y,p)` "
   ]
  },
  {
   "cell_type": "code",
   "execution_count": null,
   "metadata": {
    "tags": []
   },
   "outputs": [],
   "source": [
    "p=0.55\n",
    "y=3\n",
    "prob = stats.geom.pmf(y,p) \n",
    "print(\"Sannsynligheten for at Y=3 er %.3f\"%(prob))"
   ]
  },
  {
   "cell_type": "markdown",
   "metadata": {},
   "source": [
    "## Kumulative sannsynligheter\n",
    "\n",
    "For å regne ut den kumulative sannsynligheten $P(Y \\leq y)$ bruker vi funksjonen `stats.geom.cdf(y,p)`\n"
   ]
  },
  {
   "cell_type": "code",
   "execution_count": null,
   "metadata": {
    "tags": []
   },
   "outputs": [],
   "source": [
    "p=0.55\n",
    "y=3\n",
    "prob = stats.geom.cdf(y,p) \n",
    "print(\"Sannsynligheten for at Y er mindre eller lik 3 er %.3f\"%(prob))"
   ]
  }
 ],
 "metadata": {
  "kernelspec": {
   "display_name": "Python 3 (ipykernel)",
   "language": "python",
   "name": "python3"
  },
  "language_info": {
   "codemirror_mode": {
    "name": "ipython",
    "version": 3
   },
   "file_extension": ".py",
   "mimetype": "text/x-python",
   "name": "python",
   "nbconvert_exporter": "python",
   "pygments_lexer": "ipython3",
   "version": "3.11.5"
  }
 },
 "nbformat": 4,
 "nbformat_minor": 4
}
