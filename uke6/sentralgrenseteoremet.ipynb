{
 "cells": [
  {
   "cell_type": "markdown",
   "id": "381f678f-76da-463c-8e6e-b15cd01a6686",
   "metadata": {},
   "source": [
    "# Sentralgrenseteoremet\n",
    "\n",
    "I denne notatboken illustrerer vi hvordan gjennomsnittet av $n > 30$ uavhengige stokastiske variabler fra samme sannsynlighetsfordeling (\"identisk fordelte\") vil kunne tilnærmes med en normalfordeling.\n",
    "\n",
    "Fra formelarket: \n",
    "\n",
    "Dersom $X_1, X_2, \\ldots, X_n$ er uavhengige stokastiske variabler fra samme sannsynlighetsfordeling med forventning $\\text{E}(X_i) = \\mu$ og varians $\\text{Var}(X_i) = \\sigma^2$, for $i = 1, \\ldots, n$, og dersom $n > 30$, så er \n",
    "\n",
    "$$ \\bar{X} = \\frac{X_1 + X_2 + \\ldots + X_n}{n} \\text{ tilnærmet } \\text{N}\\left(\\mu, \\frac{\\sigma}{\\sqrt{n}}\\right) $$"
   ]
  },
  {
   "cell_type": "code",
   "execution_count": null,
   "id": "5f72f805-ce74-4a70-a03b-112471efa179",
   "metadata": {
    "tags": []
   },
   "outputs": [],
   "source": [
    "import numpy as np\n",
    "from scipy import stats # statistikk-modulen i scipy-pakken\n",
    "import matplotlib.pyplot as plt # plotting"
   ]
  },
  {
   "cell_type": "markdown",
   "id": "a6b2734f-3f76-4dba-82fd-414d071a04a6",
   "metadata": {},
   "source": [
    "Det følgende eksempelet med Poissonfordelte stokastiske variabler illustrer Oppgave 6 i Øving 6"
   ]
  },
  {
   "cell_type": "code",
   "execution_count": null,
   "id": "dfa686c0-f22f-443a-b94f-d84e8f62aa7c",
   "metadata": {
    "tags": []
   },
   "outputs": [],
   "source": [
    "# illustrasjon av sentralgrenseteoremet\n",
    "# koden er generert ved hjelp av ChatGPT\n",
    "\n",
    "mu = 3  # forventningsverdi i Poissonfordelingen\n",
    "n = 34  # antall uavhengige Poissonfordelte variabler\n",
    "\n",
    "# En funksjon som trekker observasjoner av de n variablene\n",
    "# og returnerer gjennomsnittet:\n",
    "def simulate_poisson_average(nsim, n, mu):\n",
    "    averages = []  \n",
    "\n",
    "    for i in range(nsim):\n",
    "        # Trekk observasjoner fra n uavhengige Poissonfordelte variabler\n",
    "        poisson_values = np.random.poisson(mu, size=n)\n",
    "\n",
    "        # Regn ut gjennomsnittet\n",
    "        average = np.mean(poisson_values)\n",
    "        averages.append(average)\n",
    "\n",
    "    return averages\n",
    "\n",
    "# kjør simulering\n",
    "nsim = 1000 # antall simuleringer\n",
    "averages = simulate_poisson_average(nsim, n, mu)"
   ]
  },
  {
   "cell_type": "code",
   "execution_count": null,
   "id": "412f7302-ff52-49f2-951c-4108b8a088f9",
   "metadata": {
    "tags": []
   },
   "outputs": [],
   "source": [
    "# plott et histogram over de nsim simulerte gjennomsnittene\n",
    "plt.hist(averages, bins=10, edgecolor='black', density = True)\n",
    "plt.xlabel('Gjennomsnitt')\n",
    "plt.ylabel('Frekvens')\n",
    "plt.show()"
   ]
  },
  {
   "cell_type": "code",
   "execution_count": null,
   "id": "72cafc55-a9da-4cb6-9846-00b395ef7b5b",
   "metadata": {
    "tags": []
   },
   "outputs": [],
   "source": [
    "# Legg på normalfordelingskurve med forventning og standardavvik i henhold til sentralgrenseteoremet\n",
    "\n",
    "forventning = mu\n",
    "standardavvik = np.sqrt(mu/n) # OBS: mu fordi i Poissonfordelingen er Var(X) = E(X)\n",
    "x = np.linspace(forventning - 3*standardavvik,forventning + 3*standardavvik, 100)\n",
    "normal_curve = stats.norm.pdf(x, forventning, standardavvik)\n",
    "\n",
    "plt.hist(averages, bins=10, edgecolor='black', density = True)\n",
    "plt.xlabel('Gjennomsnitt')\n",
    "plt.ylabel('Frekvens')\n",
    "plt.plot(x, normal_curve, label='Normal Curve', color='red')\n",
    "plt.show()"
   ]
  }
 ],
 "metadata": {
  "kernelspec": {
   "display_name": "Python 3 (ipykernel)",
   "language": "python",
   "name": "python3"
  },
  "language_info": {
   "codemirror_mode": {
    "name": "ipython",
    "version": 3
   },
   "file_extension": ".py",
   "mimetype": "text/x-python",
   "name": "python",
   "nbconvert_exporter": "python",
   "pygments_lexer": "ipython3",
   "version": "3.11.5"
  }
 },
 "nbformat": 4,
 "nbformat_minor": 5
}
