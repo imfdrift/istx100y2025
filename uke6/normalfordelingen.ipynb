{
 "cells": [
  {
   "cell_type": "markdown",
   "metadata": {},
   "source": [
    "# Normalfordeling"
   ]
  },
  {
   "cell_type": "markdown",
   "metadata": {},
   "source": [
    "La $X$ være en stokastisk variabel slik at $X \\sim N(\\mu, \\sigma)$. Vi sier at $X$ er normalfordelt med parametere $\\mu$ og $\\sigma$, der $\\mu$ er forventningsverdien $\\text{E}(X)$ og $\\sigma$ er standardavviket $\\text{SD}(X) = \\sqrt{\\text{Var}(X)}$. Den stokastiske variabelen $X$ er kontinuerlig. \n",
    "\n",
    "I praksis er det mange størrelser som kan anses å være normalfordelte, f.eks målinger av en bestemt størrelse der målingene er forbundet med usikkerhet, og størrelser som forekommer i naturen slik som høyden til en tilfeldig valgt person.\n",
    "\n",
    "I denne notatboken illustrer vi hvordan du kan regne ut sannsynligheter for $X$, og plotte sannsynlighetsfordelingen til $X$, ved bruk av python-kode."
   ]
  },
  {
   "cell_type": "code",
   "execution_count": null,
   "metadata": {
    "tags": []
   },
   "outputs": [],
   "source": [
    "from scipy import stats # statistikk-modulen i scipy-pakken\n",
    "import matplotlib.pyplot as plt # plotting\n",
    "import numpy as np"
   ]
  },
  {
   "cell_type": "markdown",
   "metadata": {},
   "source": [
    "## Sannsynlighetstetthet $f(x)$\n",
    "\n",
    "Husk at vi ikke kan regne på punktsannsynligheter $P(X= x)$ for kontinuerlige stokastiske variabler. I stedet representerer vi sannsynlighetsfordelingen til $X$ med en sannsynlighetstetthet $f(x)$. For normalfordelingen har funksjonen $f(x)$ den velkjente klokkeformen (\"bell curve\"). Kurven er symmetrisk, sentrert rundt $x = \\mu$, der den også har et toppunkt, og bredden på kurven avgjøres av parameteren $\\sigma$. Dersom $\\mu = 0$ og $\\sigma = 1$ så bruker vi uttrykket *standard normalfordeling*."
   ]
  },
  {
   "cell_type": "code",
   "execution_count": null,
   "metadata": {
    "tags": []
   },
   "outputs": [],
   "source": [
    "mu = 0     # forventningsverdien til X\n",
    "sigma = 1  # standardavviket til X\n",
    "\n",
    "xval = np.linspace(mu - 4*sigma, mu + 4*sigma, 100)  # x-verdier\n",
    "fx = stats.norm.pdf(xval, mu, sigma)                 # f(x)\n",
    "plt.plot(xval, fx)\n",
    "plt.grid(); plt.ylabel(\"f(x)\"); plt.xlabel(\"x\")\n",
    "plt.show()"
   ]
  },
  {
   "cell_type": "markdown",
   "metadata": {},
   "source": [
    "## Kumulative sannsynligheter\n",
    "\n",
    "Å regne ut sannsynligheter slik som $P(X \\leq x)$ og $P(a < X \\leq b)$ går ut på å regne ut arealer under segmenter av kurven $f(x)$. Dette er et integral som vi ikke klarer å løse \"for hånd\", og derfor bruker vi statistisk programvare (eller tabeller) som kan regne ut kumulative sannsynligheter $F(x) = P(X \\leq x)$ for oss. "
   ]
  },
  {
   "cell_type": "code",
   "execution_count": null,
   "metadata": {
    "tags": []
   },
   "outputs": [],
   "source": [
    "mu = 4\n",
    "sigma = 2\n",
    "x = 3\n",
    "stats.norm.cdf(x,mu,sigma)  # P(X ≤ x)"
   ]
  },
  {
   "cell_type": "code",
   "execution_count": null,
   "metadata": {
    "tags": []
   },
   "outputs": [],
   "source": [
    "xval = np.linspace(mu - 4*sigma, mu + 4*sigma, 100)  # x-verdier\n",
    "fx = stats.norm.pdf(xval, mu, sigma)                 # f(x)\n",
    "\n",
    "section = np.linspace(mu - 4*sigma,x, 100)           # alle x-verdier opp til valgte x\n",
    "\n",
    "plt.plot(xval, fx)\n",
    "plt.fill_between(section,stats.norm.pdf(section, mu, sigma))\n",
    "plt.grid(); plt.ylabel(\"f(x)\"); plt.xlabel(\"x\")\n",
    "plt.show()\n",
    "\n",
    "# arealet av det fargede området er P(X≤x)"
   ]
  },
  {
   "cell_type": "code",
   "execution_count": null,
   "metadata": {
    "tags": []
   },
   "outputs": [],
   "source": [
    "mu = 4\n",
    "sigma = 2\n",
    "a = 3\n",
    "b = 6\n",
    "stats.norm.cdf(b,mu, sigma) - stats.norm.cdf(a,mu, sigma)  # P(a < X ≤ b)"
   ]
  },
  {
   "cell_type": "code",
   "execution_count": null,
   "metadata": {
    "tags": []
   },
   "outputs": [],
   "source": [
    "xval = np.linspace(mu - 4*sigma, mu + 4*sigma, 100)  # x-verdier\n",
    "fx = stats.norm.pdf(xval, mu, sigma)                 # f(x)\n",
    "\n",
    "section = np.linspace(a,b, 100)           # alle x-verdier opp til valgte x\n",
    "\n",
    "plt.plot(xval, fx)\n",
    "plt.fill_between(section,stats.norm.pdf(section, mu, sigma))\n",
    "plt.grid(); plt.ylabel(\"f(x)\"); plt.xlabel(\"x\")\n",
    "plt.show()\n",
    "\n",
    "# arealet av det fargede området er P(a < X ≤ b)"
   ]
  },
  {
   "cell_type": "markdown",
   "metadata": {},
   "source": [
    "## Kritiske verdier i normalfordelingen\n",
    "\n",
    "En kritisk verdi er et punkt $x_{\\alpha}$ på tallinja slik at $P(X > x_{\\alpha}) = \\alpha$ for en gitt sannsynlighet $\\alpha$. Dersom $X \\sim N(\\mu, \\sigma)$, hvilket tall på tallinja, $x_{0.1}$ oppfyller $P(X > x_{0.1}) = 0.1$?"
   ]
  },
  {
   "cell_type": "code",
   "execution_count": null,
   "metadata": {
    "tags": []
   },
   "outputs": [],
   "source": [
    "mu = 4\n",
    "sigma = 2\n",
    "alpha = 0.1\n",
    "stats.norm.ppf(1-alpha,mu,sigma) # OBS: 1-alpha fordi pythons ppf-funksjon regner på venstre hale men vi er nå interessert i høyre hale"
   ]
  },
  {
   "cell_type": "code",
   "execution_count": null,
   "metadata": {
    "tags": []
   },
   "outputs": [],
   "source": [
    "# Plotter kritisk verdi og areal i høyre hale \n",
    "xval = np.linspace(mu - 4*sigma, mu + 4*sigma, 100)  # x-verdier\n",
    "fx = stats.norm.pdf(xval, mu, sigma)                 # f(x)\n",
    "x_alpha = stats.norm.ppf(1 - alpha,mu,sigma)\n",
    "\n",
    "section = np.linspace(x_alpha,mu + 4*sigma, 100, 100) # alle x-verdier fra x_alpha og oppover\n",
    "\n",
    "plt.plot(xval, fx)\n",
    "plt.fill_between(section,stats.norm.pdf(section, mu, sigma))\n",
    "plt.grid(); plt.ylabel(\"f(x)\"); plt.xlabel(\"x\")\n",
    "plt.show()"
   ]
  },
  {
   "cell_type": "markdown",
   "metadata": {},
   "source": [
    "## Standard normalfordeling\n",
    "\n",
    "Husk at alle sannsynligheter i normalfordeling kan regnes ut ved å gjøre om problemet til et problem i standard normalfordeling. La oss sjekke at det stemmer:"
   ]
  },
  {
   "cell_type": "code",
   "execution_count": null,
   "metadata": {
    "tags": []
   },
   "outputs": [],
   "source": [
    "mu = 4\n",
    "sigma = 2\n",
    "x = 3\n",
    "stats.norm.cdf(x,mu,sigma)  # P(X ≤ x)"
   ]
  },
  {
   "cell_type": "code",
   "execution_count": null,
   "metadata": {},
   "outputs": [],
   "source": [
    "stats.norm.cdf((x-mu)/sigma,0,1)  # P(X ≤ x)"
   ]
  },
  {
   "cell_type": "code",
   "execution_count": null,
   "metadata": {
    "tags": []
   },
   "outputs": [],
   "source": [
    "mu = 4\n",
    "sigma = 2\n",
    "a = 3\n",
    "b = 6\n",
    "stats.norm.cdf(b,mu, sigma) - stats.norm.cdf(a,mu, sigma)  # P(a < X ≤ b)"
   ]
  },
  {
   "cell_type": "code",
   "execution_count": null,
   "metadata": {
    "tags": []
   },
   "outputs": [],
   "source": [
    "stats.norm.cdf((b-mu)/sigma,0,1) - stats.norm.cdf((a-mu)/sigma,0,1)  # P(a < X ≤ b)"
   ]
  }
 ],
 "metadata": {
  "kernelspec": {
   "display_name": "Python 3 (ipykernel)",
   "language": "python",
   "name": "python3"
  },
  "language_info": {
   "codemirror_mode": {
    "name": "ipython",
    "version": 3
   },
   "file_extension": ".py",
   "mimetype": "text/x-python",
   "name": "python",
   "nbconvert_exporter": "python",
   "pygments_lexer": "ipython3",
   "version": "3.11.5"
  }
 },
 "nbformat": 4,
 "nbformat_minor": 4
}
